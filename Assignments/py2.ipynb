{
 "cells": [
  {
   "cell_type": "markdown",
   "metadata": {},
   "source": [
    "# Python Programming Assignment 2"
   ]
  },
  {
   "cell_type": "markdown",
   "metadata": {},
   "source": [
    "**Q1. Write a Python program to convert kilometers to miles?**"
   ]
  },
  {
   "cell_type": "code",
   "execution_count": 20,
   "metadata": {},
   "outputs": [
    {
     "name": "stdout",
     "output_type": "stream",
     "text": [
      "Enter the kilometers: 10\n"
     ]
    },
    {
     "data": {
      "text/plain": [
       "6.213699999999999"
      ]
     },
     "execution_count": 20,
     "metadata": {},
     "output_type": "execute_result"
    }
   ],
   "source": [
    "def k2m(km):\n",
    "    try:\n",
    "        km = float(km)\n",
    "        if km>0:\n",
    "            b = km*0.62137\n",
    "            return b\n",
    "        else:\n",
    "            print(\"Kilometers cannot be less than 0\")\n",
    "    except ValueError:\n",
    "        print(\"Enter a valid number\")\n",
    "    \n",
    "\n",
    "a = input(\"Enter the kilometers: \")\n",
    "k2m(a)"
   ]
  },
  {
   "cell_type": "markdown",
   "metadata": {},
   "source": [
    "#### Q.2 Write a Python program to convert Celsius to Fahrenheit?"
   ]
  },
  {
   "cell_type": "code",
   "execution_count": 23,
   "metadata": {},
   "outputs": [
    {
     "name": "stdout",
     "output_type": "stream",
     "text": [
      "Enter the temperature in celcius: 12\n"
     ]
    },
    {
     "data": {
      "text/plain": [
       "53.6"
      ]
     },
     "execution_count": 23,
     "metadata": {},
     "output_type": "execute_result"
    }
   ],
   "source": [
    "def c2f(c):\n",
    "    try:\n",
    "        c = float(c)\n",
    "        temp = c*9/5+32\n",
    "        return temp\n",
    "    except ValueError:\n",
    "        print(\"Enter a valid number\")\n",
    "    \n",
    "\n",
    "a = input(\"Enter the temperature in celcius: \")\n",
    "c2f(a)"
   ]
  },
  {
   "cell_type": "markdown",
   "metadata": {},
   "source": [
    "#### Q.3 Write a Python program to display calendar?"
   ]
  },
  {
   "cell_type": "code",
   "execution_count": 26,
   "metadata": {},
   "outputs": [
    {
     "name": "stdout",
     "output_type": "stream",
     "text": [
      "Enter year: 2000\n",
      "Enter month: 2\n",
      "   February 2000\n",
      "Mo Tu We Th Fr Sa Su\n",
      "    1  2  3  4  5  6\n",
      " 7  8  9 10 11 12 13\n",
      "14 15 16 17 18 19 20\n",
      "21 22 23 24 25 26 27\n",
      "28 29\n",
      "\n",
      "                                  2000\n",
      "\n",
      "      January                   February                   March\n",
      "Mo Tu We Th Fr Sa Su      Mo Tu We Th Fr Sa Su      Mo Tu We Th Fr Sa Su\n",
      "                1  2          1  2  3  4  5  6             1  2  3  4  5\n",
      " 3  4  5  6  7  8  9       7  8  9 10 11 12 13       6  7  8  9 10 11 12\n",
      "10 11 12 13 14 15 16      14 15 16 17 18 19 20      13 14 15 16 17 18 19\n",
      "17 18 19 20 21 22 23      21 22 23 24 25 26 27      20 21 22 23 24 25 26\n",
      "24 25 26 27 28 29 30      28 29                     27 28 29 30 31\n",
      "31\n",
      "\n",
      "       April                      May                       June\n",
      "Mo Tu We Th Fr Sa Su      Mo Tu We Th Fr Sa Su      Mo Tu We Th Fr Sa Su\n",
      "                1  2       1  2  3  4  5  6  7                1  2  3  4\n",
      " 3  4  5  6  7  8  9       8  9 10 11 12 13 14       5  6  7  8  9 10 11\n",
      "10 11 12 13 14 15 16      15 16 17 18 19 20 21      12 13 14 15 16 17 18\n",
      "17 18 19 20 21 22 23      22 23 24 25 26 27 28      19 20 21 22 23 24 25\n",
      "24 25 26 27 28 29 30      29 30 31                  26 27 28 29 30\n",
      "\n",
      "        July                     August                  September\n",
      "Mo Tu We Th Fr Sa Su      Mo Tu We Th Fr Sa Su      Mo Tu We Th Fr Sa Su\n",
      "                1  2          1  2  3  4  5  6                   1  2  3\n",
      " 3  4  5  6  7  8  9       7  8  9 10 11 12 13       4  5  6  7  8  9 10\n",
      "10 11 12 13 14 15 16      14 15 16 17 18 19 20      11 12 13 14 15 16 17\n",
      "17 18 19 20 21 22 23      21 22 23 24 25 26 27      18 19 20 21 22 23 24\n",
      "24 25 26 27 28 29 30      28 29 30 31               25 26 27 28 29 30\n",
      "31\n",
      "\n",
      "      October                   November                  December\n",
      "Mo Tu We Th Fr Sa Su      Mo Tu We Th Fr Sa Su      Mo Tu We Th Fr Sa Su\n",
      "                   1             1  2  3  4  5                   1  2  3\n",
      " 2  3  4  5  6  7  8       6  7  8  9 10 11 12       4  5  6  7  8  9 10\n",
      " 9 10 11 12 13 14 15      13 14 15 16 17 18 19      11 12 13 14 15 16 17\n",
      "16 17 18 19 20 21 22      20 21 22 23 24 25 26      18 19 20 21 22 23 24\n",
      "23 24 25 26 27 28 29      27 28 29 30               25 26 27 28 29 30 31\n",
      "30 31\n",
      "\n"
     ]
    }
   ],
   "source": [
    "import calendar\n",
    "\n",
    "year = int(input(\"Enter year: \"))\n",
    "month = int(input(\"Enter month: \"))\n",
    "\n",
    "# display the calendar by month\n",
    "print(calendar.month(year,month))\n",
    "# display the calender of year\n",
    "print(calendar.calendar(year))"
   ]
  },
  {
   "cell_type": "markdown",
   "metadata": {},
   "source": [
    "#### Q4. Write a Python program to solve quadratic equation?"
   ]
  },
  {
   "cell_type": "code",
   "execution_count": 42,
   "metadata": {},
   "outputs": [
    {
     "name": "stdout",
     "output_type": "stream",
     "text": [
      "for the equation in the form: a*x^2+b*x+c  :\n",
      "enter coefficient of x^2: 1\n",
      "enter coefficient of x: 5\n",
      "enter the constant:  2\n",
      "\n"
     ]
    },
    {
     "data": {
      "text/plain": [
       "[-4.561552812808831, -0.4384471871911697]"
      ]
     },
     "execution_count": 42,
     "metadata": {},
     "output_type": "execute_result"
    }
   ],
   "source": [
    "def quad_eq_solve():\n",
    "    import math\n",
    "    try:\n",
    "        print(\"for the equation in the form: a*x^2+b*x+c  :\")\n",
    "        a = float(input(\"enter coefficient of x^2: \")) \n",
    "        b = float(input(\"enter coefficient of x: \"))\n",
    "        c = float(input(\"enter the constant:  \"))\n",
    "        print()\n",
    "        if b*b>=4*a*c:\n",
    "            D = math.sqrt(b*b-4*a*c)\n",
    "            ans1 = (-b-D)/(2*a)\n",
    "            ans2 = (-b+D)/(2*a)\n",
    "            return [ans1,ans2]\n",
    "        else:\n",
    "           # a = complex(a)\n",
    "           # b = complex(b)\n",
    "           # c = complex(c)\n",
    "            D = math.sqrt(abs(b*b-4*a*c))\n",
    "            ans1 = complex(-b/(2*a),-D/(2*a))\n",
    "            ans2 = complex(-b/(2*a),+D/(2*a))\n",
    "            return [ans1,ans2]\n",
    "  #  except ValueError:\n",
    "   #     print(\"Enter valid inputs\")\n",
    "    except ZeroDivisionError:\n",
    "        print(\"If the coefficient of x^2 is 0, then the equation is not quadratic\")\n",
    "        \n",
    "        \n",
    "quad_eq_solve()        "
   ]
  },
  {
   "cell_type": "markdown",
   "metadata": {},
   "source": [
    "#### Q5. Write a Python program to swap two variables without temp variable?"
   ]
  },
  {
   "cell_type": "code",
   "execution_count": 43,
   "metadata": {},
   "outputs": [
    {
     "name": "stdout",
     "output_type": "stream",
     "text": [
      "Before swapping :: a:  5 b:  10\n",
      "After swapping :: a:  10 b:  5\n"
     ]
    }
   ],
   "source": [
    "a=5\n",
    "b=10\n",
    "print('Before swapping :: a: ',a,'b: ',b)\n",
    "a,b = b,a\n",
    "print('After swapping :: a: ',a,'b: ',b)"
   ]
  }
 ],
 "metadata": {
  "kernelspec": {
   "display_name": "Python 3",
   "language": "python",
   "name": "python3"
  },
  "language_info": {
   "codemirror_mode": {
    "name": "ipython",
    "version": 3
   },
   "file_extension": ".py",
   "mimetype": "text/x-python",
   "name": "python",
   "nbconvert_exporter": "python",
   "pygments_lexer": "ipython3",
   "version": "3.8.8"
  }
 },
 "nbformat": 4,
 "nbformat_minor": 4
}

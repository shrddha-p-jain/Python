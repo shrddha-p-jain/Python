{
 "cells": [
  {
   "cell_type": "markdown",
   "id": "bc56ff59",
   "metadata": {},
   "source": [
    "# Python Practical Assignment 7"
   ]
  },
  {
   "cell_type": "markdown",
   "id": "17ecf708",
   "metadata": {},
   "source": [
    "1. Write a Python Program to find sum of array?\n",
    "2. Write a Python Program to find largest element in an array?\n",
    "3. Write a Python Program for array rotation?\n",
    "4. Write a Python Program to Split the array and add the first part to the end?\n",
    "5. Write a Python Program to check if given array is Monotonic?"
   ]
  },
  {
   "cell_type": "code",
   "execution_count": 5,
   "id": "09a4499e",
   "metadata": {},
   "outputs": [
    {
     "data": {
      "text/plain": [
       "15"
      ]
     },
     "execution_count": 5,
     "metadata": {},
     "output_type": "execute_result"
    }
   ],
   "source": [
    "# 1. When input is given in a list\n",
    "def sum_ar(li):\n",
    "    try:\n",
    "        sum = 0\n",
    "        for i in li:\n",
    "            sum = sum+i\n",
    "        return sum\n",
    "    except ValueError:\n",
    "        print('Enter valid number')\n",
    "        \n",
    "sum([1,2,3,4,5])"
   ]
  },
  {
   "cell_type": "code",
   "execution_count": 1,
   "id": "6ffd8664",
   "metadata": {},
   "outputs": [],
   "source": [
    "# 1. When input is given directly in the function\n",
    "def sum_arr(*args):\n",
    "    try:\n",
    "        sum = 0\n",
    "        for i in args:\n",
    "            sum = sum+i\n",
    "        return sum\n",
    "    except ValueError:\n",
    "        print('Enter valid number')\n",
    "        \n",
    "        \n",
    "        \n",
    "sum_arr(1,2,4,3,5)"
   ]
  },
  {
   "cell_type": "code",
   "execution_count": 7,
   "id": "586a74af",
   "metadata": {},
   "outputs": [
    {
     "data": {
      "text/plain": [
       "5"
      ]
     },
     "execution_count": 7,
     "metadata": {},
     "output_type": "execute_result"
    }
   ],
   "source": [
    "# 2\n",
    "def max_ar(li):\n",
    "    try:\n",
    "        max = li[0]\n",
    "        for i in li:\n",
    "            if i>max:\n",
    "                max = i\n",
    "        return max\n",
    "    except ValueError:\n",
    "        print('Enter valid number')\n",
    "        \n",
    "max([1,2,3,4,5,2,4,2,1])"
   ]
  },
  {
   "cell_type": "code",
   "execution_count": 9,
   "id": "9475bd10",
   "metadata": {},
   "outputs": [
    {
     "data": {
      "text/plain": [
       "[1, 2, 4, 2, 5, 4, 3, 2, 1]"
      ]
     },
     "execution_count": 9,
     "metadata": {},
     "output_type": "execute_result"
    }
   ],
   "source": [
    "# 3\n",
    "def rot_ar(li):\n",
    "    li1 = li[::-1]\n",
    "    return li1\n",
    "        \n",
    "rot_ar([1,2,3,4,5,2,4,2,1])"
   ]
  },
  {
   "cell_type": "code",
   "execution_count": 12,
   "id": "67de20e3",
   "metadata": {},
   "outputs": [
    {
     "name": "stdout",
     "output_type": "stream",
     "text": [
      "[2, 3, 4, 5, 6, 7, 1]\n"
     ]
    },
    {
     "data": {
      "text/plain": [
       "[4, 5, 6, 7, 1, 2, 3]"
      ]
     },
     "execution_count": 12,
     "metadata": {},
     "output_type": "execute_result"
    }
   ],
   "source": [
    "# 4\n",
    "def splitArr(ar, k=1): \n",
    "    try:\n",
    "        n = len(ar)\n",
    "        if n<=k:\n",
    "            raise IndexError\n",
    "        b = ar[:k]\n",
    "        return (ar[k::]+b[::])\n",
    "    except IndexError:\n",
    "        print(\"k should be smaller than array length\")\n",
    "        \n",
    "print(splitArr([1,2,3,4,5,6,7]))\n",
    "print(splitArr([1,2,3,4,5,6,7],3))"
   ]
  },
  {
   "cell_type": "code",
   "execution_count": 15,
   "id": "b2d3b795",
   "metadata": {},
   "outputs": [
    {
     "data": {
      "text/plain": [
       "True"
      ]
     },
     "execution_count": 15,
     "metadata": {},
     "output_type": "execute_result"
    }
   ],
   "source": [
    "# 5\n",
    "def isMonotonic(arr):\n",
    "    try:\n",
    "        return (all(arr[i] <= arr[i + 1] for i in range(len(arr) - 1)) or\n",
    "            all(arr[i] >= arr[i + 1] for i in range(len(arr) - 1)))\n",
    "    except TypeError:\n",
    "        print(\"Enter correct data\")\n",
    "        \n",
    "        \n",
    "        \n",
    "isMonotonic([0,3,5,6,7,12])\n"
   ]
  }
 ],
 "metadata": {
  "kernelspec": {
   "display_name": "Python 3",
   "language": "python",
   "name": "python3"
  },
  "language_info": {
   "codemirror_mode": {
    "name": "ipython",
    "version": 3
   },
   "file_extension": ".py",
   "mimetype": "text/x-python",
   "name": "python",
   "nbconvert_exporter": "python",
   "pygments_lexer": "ipython3",
   "version": "3.8.8"
  }
 },
 "nbformat": 4,
 "nbformat_minor": 5
}

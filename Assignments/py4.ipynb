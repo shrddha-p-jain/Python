{
 "cells": [
  {
   "cell_type": "markdown",
   "id": "c52f01c8",
   "metadata": {},
   "source": [
    "# Python Programming Assignment 4"
   ]
  },
  {
   "cell_type": "markdown",
   "id": "faa29585",
   "metadata": {},
   "source": [
    "#### Q1. Write a Python Program to Find the Factorial of a Number?"
   ]
  },
  {
   "cell_type": "code",
   "execution_count": 3,
   "id": "8da42640",
   "metadata": {},
   "outputs": [
    {
     "name": "stdout",
     "output_type": "stream",
     "text": [
      "Enter the number: 5\n"
     ]
    },
    {
     "data": {
      "text/plain": [
       "120"
      ]
     },
     "execution_count": 3,
     "metadata": {},
     "output_type": "execute_result"
    }
   ],
   "source": [
    "def factorial(x):\n",
    "    try:\n",
    "        x = int(x)\n",
    "        if x<=0:\n",
    "            print(\"Enter a number greater than 0\")\n",
    "            return None\n",
    "        fact = 1\n",
    "        for i in range(2,x+1):\n",
    "            fact = fact*i\n",
    "        return fact\n",
    "    except ValueError:\n",
    "        print(\"Enter a valid number\")\n",
    "    \n",
    "\n",
    "a = input(\"Enter the number: \")\n",
    "factorial(a)"
   ]
  },
  {
   "cell_type": "markdown",
   "id": "f5cba537",
   "metadata": {},
   "source": [
    "#### Q2. Write a Python Program to Display the multiplication Table?"
   ]
  },
  {
   "cell_type": "code",
   "execution_count": 18,
   "id": "f016b73a",
   "metadata": {},
   "outputs": [
    {
     "name": "stdout",
     "output_type": "stream",
     "text": [
      "1 * 15 = 15\n",
      "2 * 15 = 30\n",
      "3 * 15 = 45\n",
      "4 * 15 = 60\n",
      "5 * 15 = 75\n",
      "6 * 15 = 90\n",
      "7 * 15 = 105\n",
      "8 * 15 = 120\n",
      "9 * 15 = 135\n",
      "10 * 15 = 150\n"
     ]
    }
   ],
   "source": [
    "def mult_table(n):\n",
    "    for i in range(1,11):\n",
    "        print(\"{0} * {1} = {2}\".format(i,n, n*i))\n",
    "    \n",
    "mult_table(15)"
   ]
  },
  {
   "cell_type": "markdown",
   "id": "2bb533ad",
   "metadata": {},
   "source": [
    "#### Q3. Write a Python Program to Print the Fibonacci sequence?"
   ]
  },
  {
   "cell_type": "code",
   "execution_count": 15,
   "id": "6899c1a1",
   "metadata": {},
   "outputs": [
    {
     "name": "stdout",
     "output_type": "stream",
     "text": [
      "0 1 1 2 3 5 8 13 21 34 55 89 144 "
     ]
    }
   ],
   "source": [
    "## printing fibonacci series upto given number\n",
    "def fibonacci(n):\n",
    "    try:\n",
    "        b=1\n",
    "        c=0\n",
    "        a=0\n",
    "        while c<=n:\n",
    "            print(c, end = \" \")\n",
    "            a=b\n",
    "            b=c\n",
    "            c=a+b\n",
    "    except ValueError:\n",
    "        print('enter valid number')\n",
    "\n",
    "fibonacci(200)"
   ]
  },
  {
   "cell_type": "markdown",
   "id": "4ce49e03",
   "metadata": {},
   "source": [
    "#### Q4. Write a Python Program to Check Armstrong Number?"
   ]
  },
  {
   "cell_type": "code",
   "execution_count": 9,
   "id": "046d165a",
   "metadata": {},
   "outputs": [
    {
     "name": "stdout",
     "output_type": "stream",
     "text": [
      "Enter the number: 134\n"
     ]
    },
    {
     "data": {
      "text/plain": [
       "False"
      ]
     },
     "execution_count": 9,
     "metadata": {},
     "output_type": "execute_result"
    }
   ],
   "source": [
    "def is_armstrong(x):\n",
    "    try:\n",
    "        l = len(str(x))\n",
    "        x1 = int(x)\n",
    "        s = 0\n",
    "        for y in x:\n",
    "            s+=pow(int(y),l)\n",
    "\n",
    "        if s==x1:\n",
    "            return True\n",
    "        else:\n",
    "            return False\n",
    "    except ValueError:\n",
    "        print(\"Enter a valid number\")\n",
    "    \n",
    "\n",
    "a = input(\"Enter the number: \")\n",
    "is_armstrong(a)"
   ]
  },
  {
   "cell_type": "markdown",
   "id": "6e160233",
   "metadata": {},
   "source": [
    "#### Q5. Write a Python Program to Find Armstrong Number in an Interval?"
   ]
  },
  {
   "cell_type": "code",
   "execution_count": 14,
   "id": "aae2f977",
   "metadata": {},
   "outputs": [
    {
     "name": "stdout",
     "output_type": "stream",
     "text": [
      "Enter start1\n",
      "Enter end1000\n",
      "[1, 2, 3, 4, 5, 6, 7, 8, 9, 153, 370, 371, 407]\n"
     ]
    }
   ],
   "source": [
    "def is_armstrong_range(start,end):\n",
    "    if int(start)>int(end) or int(start)<1 :\n",
    "        print(\"Enter valid range\")\n",
    "        return None\n",
    "    li = []\n",
    "    try:\n",
    "        for i in range(int(start),int(end)):\n",
    "            if is_armstrong(str(i)):\n",
    "                li.append(i)\n",
    "        return li\n",
    "    except ValueError:\n",
    "        print(\"Enter a valid number\")\n",
    "\n",
    "start = input(\"Enter start\")\n",
    "end = input(\"Enter end\")\n",
    "print(is_armstrong_range(start,end))"
   ]
  },
  {
   "cell_type": "markdown",
   "id": "96660b5e",
   "metadata": {},
   "source": [
    "#### Q6. Write a Python Program to Find the Sum of Natural Numbers?"
   ]
  },
  {
   "cell_type": "code",
   "execution_count": 16,
   "id": "6711b292",
   "metadata": {},
   "outputs": [
    {
     "data": {
      "text/plain": [
       "5050.0"
      ]
     },
     "execution_count": 16,
     "metadata": {},
     "output_type": "execute_result"
    }
   ],
   "source": [
    "def sumn(n):\n",
    "    try:\n",
    "        n = int(n)\n",
    "        return n*(n+1)/2\n",
    "    except ValueError:\n",
    "        print('enter valid number')\n",
    "\n",
    "sumn(100)"
   ]
  }
 ],
 "metadata": {
  "kernelspec": {
   "display_name": "Python 3",
   "language": "python",
   "name": "python3"
  },
  "language_info": {
   "codemirror_mode": {
    "name": "ipython",
    "version": 3
   },
   "file_extension": ".py",
   "mimetype": "text/x-python",
   "name": "python",
   "nbconvert_exporter": "python",
   "pygments_lexer": "ipython3",
   "version": "3.8.8"
  }
 },
 "nbformat": 4,
 "nbformat_minor": 5
}

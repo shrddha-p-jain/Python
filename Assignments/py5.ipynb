{
 "cells": [
  {
   "cell_type": "markdown",
   "id": "207231ce",
   "metadata": {},
   "source": [
    "# Python Programming Assignment 5"
   ]
  },
  {
   "cell_type": "markdown",
   "id": "3a891540",
   "metadata": {},
   "source": [
    "1. Write a Python Program to Find LCM?\n",
    "2. Write a Python Program to Find HCF?\n",
    "3. Write a Python Program to Convert Decimal to Binary, Octal and Hexadecimal?\n",
    "4. Write a Python Program To Find ASCII value of a character?\n",
    "5. Write a Python Program to Make a Simple Calculator with 4 basic mathematical operations?"
   ]
  },
  {
   "cell_type": "code",
   "execution_count": 5,
   "id": "a6d7f400",
   "metadata": {},
   "outputs": [
    {
     "name": "stdout",
     "output_type": "stream",
     "text": [
      "Enter first number: 4\n",
      "Enter second number: 3\n"
     ]
    },
    {
     "data": {
      "text/plain": [
       "12"
      ]
     },
     "execution_count": 5,
     "metadata": {},
     "output_type": "execute_result"
    }
   ],
   "source": [
    "#1\n",
    "def lcm(x, y):  \n",
    "    if x > y:  \n",
    "        greater = x  \n",
    "    else:  \n",
    "        greater = y  \n",
    "    while(True):  \n",
    "        if((greater % x == 0) and (greater % y == 0)):  \n",
    "            lcm = greater  \n",
    "            break  \n",
    "        greater += 1  \n",
    "    return lcm  \n",
    "  \n",
    "a = int(input(\"Enter first number: \"))  \n",
    "b = int(input(\"Enter second number: \"))  \n",
    "lcm(a, b)"
   ]
  },
  {
   "cell_type": "code",
   "execution_count": 6,
   "id": "e39f2e58",
   "metadata": {},
   "outputs": [
    {
     "name": "stdout",
     "output_type": "stream",
     "text": [
      "Enter first number: 100\n",
      "Enter second number: 125\n"
     ]
    },
    {
     "data": {
      "text/plain": [
       "25"
      ]
     },
     "execution_count": 6,
     "metadata": {},
     "output_type": "execute_result"
    }
   ],
   "source": [
    "# 2\n",
    "def hcf(x, y):  \n",
    "    if x > y:  \n",
    "        smaller = y  \n",
    "    else:  \n",
    "        smaller = x  \n",
    "    for i in range(1,smaller + 1):  \n",
    "        if((x % i == 0) and (y % i == 0)):  \n",
    "            hcf = i  \n",
    "    return hcf  \n",
    "  \n",
    "a = int(input(\"Enter first number: \"))  \n",
    "b = int(input(\"Enter second number: \"))  \n",
    "hcf(a, b) "
   ]
  },
  {
   "cell_type": "code",
   "execution_count": 10,
   "id": "82dac450",
   "metadata": {},
   "outputs": [
    {
     "name": "stdout",
     "output_type": "stream",
     "text": [
      "Enter a number: 13\n"
     ]
    },
    {
     "data": {
      "text/plain": [
       "{'binary': '0b1101', 'octal': '0o15', 'hexadecimal': '0xd'}"
      ]
     },
     "execution_count": 10,
     "metadata": {},
     "output_type": "execute_result"
    }
   ],
   "source": [
    "#3\n",
    "x = input(\"Enter a number: \")\n",
    "def convert(x):\n",
    "    try:\n",
    "        x = int(x)\n",
    "        values = {}\n",
    "        values['binary']=bin(x)\n",
    "        values['octal']=oct(x)\n",
    "        values['hexadecimal']= hex(x)\n",
    "        return values\n",
    "    except ValueError:\n",
    "        print(\"Enter valid number\")\n",
    "convert(x)"
   ]
  },
  {
   "cell_type": "code",
   "execution_count": 2,
   "id": "f1c6b5e2",
   "metadata": {},
   "outputs": [
    {
     "name": "stdout",
     "output_type": "stream",
     "text": [
      "Enter a character or stringShraddha\n"
     ]
    },
    {
     "data": {
      "text/plain": [
       "{'S': 83, 'h': 104, 'r': 114, 'a': 97, 'd': 100}"
      ]
     },
     "execution_count": 2,
     "metadata": {},
     "output_type": "execute_result"
    }
   ],
   "source": [
    "#4\n",
    "x = input(\"Enter a character or string\")\n",
    "def c2asc(x):\n",
    "    values = {}\n",
    "    for i in x:\n",
    "        values[i]=ord(i)\n",
    "    return values\n",
    "\n",
    "c2asc(x)"
   ]
  },
  {
   "cell_type": "code",
   "execution_count": 14,
   "id": "a6755206",
   "metadata": {},
   "outputs": [
    {
     "name": "stdout",
     "output_type": "stream",
     "text": [
      "Enter 1 for addition, 2 for subtraction, 3 for multiplication, 4 for division9\n",
      "Enter first number2\n",
      "Enter second number3\n",
      "Invalid operation\n"
     ]
    }
   ],
   "source": [
    "#5\n",
    "def calc():\n",
    "    try:\n",
    "        x = int(input(\"Enter 1 for addition, 2 for subtraction, 3 for multiplication, 4 for division\"))\n",
    "        a = float(input(\"Enter first number\"))\n",
    "        b = float(input(\"Enter second number\"))\n",
    "        if x==1:\n",
    "            return a+b\n",
    "        elif x==2:\n",
    "            return a-b\n",
    "        elif x==3:\n",
    "            return a*b\n",
    "        elif x==4:\n",
    "            return a/b\n",
    "        else:\n",
    "            print(\"Invalid operation\")\n",
    "            return None\n",
    "    except ValueError:\n",
    "        print(\"Enter valid numbers\")\n",
    "    except ZeroDivisionError:\n",
    "        print('cannot divide by 0')\n",
    "\n",
    "calc()"
   ]
  }
 ],
 "metadata": {
  "kernelspec": {
   "display_name": "Python 3",
   "language": "python",
   "name": "python3"
  },
  "language_info": {
   "codemirror_mode": {
    "name": "ipython",
    "version": 3
   },
   "file_extension": ".py",
   "mimetype": "text/x-python",
   "name": "python",
   "nbconvert_exporter": "python",
   "pygments_lexer": "ipython3",
   "version": "3.8.8"
  }
 },
 "nbformat": 4,
 "nbformat_minor": 5
}

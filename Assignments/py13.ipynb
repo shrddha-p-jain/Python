{
 "cells": [
  {
   "cell_type": "markdown",
   "id": "f181f250",
   "metadata": {},
   "source": [
    "# Python Programming Assignment 13"
   ]
  },
  {
   "cell_type": "markdown",
   "id": "6cc178b7",
   "metadata": {},
   "source": [
    "1. Write a program that calculates and prints the value according to the given formula: Q = Square root of [(2 * C * D)/H]\n",
    "- Following are the fixed values of C and H:\n",
    "- C is 50. H is 30.\n",
    "- D is the variable whose values should be input to your program in a comma-separated sequence."
   ]
  },
  {
   "cell_type": "code",
   "execution_count": 13,
   "id": "2d13f1d3",
   "metadata": {},
   "outputs": [],
   "source": [
    "import logging as lg\n",
    "lg.basicConfig(filename='error.log',level=lg.INFO)"
   ]
  },
  {
   "cell_type": "code",
   "execution_count": 7,
   "id": "9694f2a5",
   "metadata": {},
   "outputs": [
    {
     "data": {
      "text/plain": [
       "'18,22,24'"
      ]
     },
     "execution_count": 7,
     "metadata": {},
     "output_type": "execute_result"
    }
   ],
   "source": [
    "#1\n",
    "def func1(*args,c=50,h=30):\n",
    "    try:\n",
    "        from math import sqrt,floor\n",
    "        vals = []\n",
    "        for i in args:\n",
    "            vals.append(str(floor(sqrt((2*c*i)/h))))\n",
    "        return \",\".join(vals)\n",
    "    except Exception as e:\n",
    "        print(\"There was some error\",e)\n",
    "        lg.exception(str(e))\n",
    "\n",
    "func1(100,150,180)                        "
   ]
  },
  {
   "cell_type": "markdown",
   "id": "caaafd43",
   "metadata": {},
   "source": [
    "2. Write a program which takes 2 digits, X,Y as input and generates a 2-dimensional array. The element value in the i-th row and j-th column of the array should be i*j."
   ]
  },
  {
   "cell_type": "code",
   "execution_count": 8,
   "id": "a26677b2",
   "metadata": {},
   "outputs": [
    {
     "data": {
      "text/plain": [
       "[[0, 0, 0, 0, 0],\n",
       " [0, 1, 2, 3, 4],\n",
       " [0, 2, 4, 6, 8],\n",
       " [0, 3, 6, 9, 12],\n",
       " [0, 4, 8, 12, 16],\n",
       " [0, 5, 10, 15, 20]]"
      ]
     },
     "execution_count": 8,
     "metadata": {},
     "output_type": "execute_result"
    }
   ],
   "source": [
    "#2\n",
    "def func2(i,j):\n",
    "    try:\n",
    "         return [[i*j for i in range(i)] for j in range(j)]\n",
    "    except Exception as e:\n",
    "        print(\"There was some error\",e)\n",
    "        lg.exception(str(e))\n",
    "\n",
    "func2(5,6)\n",
    "# array = [[i*j for i in range(i)] for j in range(j)]"
   ]
  },
  {
   "cell_type": "markdown",
   "id": "4ecac4fa",
   "metadata": {},
   "source": [
    "3. Write a program that accepts a comma separated sequence of words as input and prints the words in a comma-separated sequence after sorting them alphabetically."
   ]
  },
  {
   "cell_type": "code",
   "execution_count": 11,
   "id": "18f206ee",
   "metadata": {},
   "outputs": [
    {
     "name": "stdout",
     "output_type": "stream",
     "text": [
      "['abc', 'adc', 'xyz']\n"
     ]
    }
   ],
   "source": [
    "def sortl(*args):\n",
    "    try:\n",
    "        A = list(args)\n",
    "        A.sort()\n",
    "        return A\n",
    "    except Exception as e:\n",
    "        print(\"There was some error\",e)\n",
    "        lg.exception(str(e))\n",
    "\n",
    "print(sortl('abc','xyz','adc'))"
   ]
  },
  {
   "cell_type": "markdown",
   "id": "3a08da24",
   "metadata": {},
   "source": [
    "4. Write a program that accepts a sequence of whitespace separated words as input and prints\n",
    "the words after removing all duplicate words and sorting them alphanumerically."
   ]
  },
  {
   "cell_type": "code",
   "execution_count": 19,
   "id": "426d2f28",
   "metadata": {},
   "outputs": [
    {
     "data": {
      "text/plain": [
       "['a', 'is', 'string', 'this']"
      ]
     },
     "execution_count": 19,
     "metadata": {},
     "output_type": "execute_result"
    }
   ],
   "source": [
    "def sort2(inp):\n",
    "    try:\n",
    "        words = inp.lower().split(\" \")\n",
    "        words_unique = set(words)\n",
    "        words_unique = list(words_unique)\n",
    "        words_unique.sort()\n",
    "        return words_unique    \n",
    "    except Exception as e:\n",
    "        print(\"There was some error\",e)\n",
    "        lg.exception(str(e))\n",
    "sort2(\"This is a string\")    \n",
    "    "
   ]
  },
  {
   "cell_type": "markdown",
   "id": "29e8c8a5",
   "metadata": {},
   "source": [
    "5. Write a program that accepts a sentence and calculate the number of letters and digits."
   ]
  },
  {
   "cell_type": "code",
   "execution_count": 20,
   "id": "9ada8314",
   "metadata": {},
   "outputs": [
    {
     "data": {
      "text/plain": [
       "{'LETTERS': 16, 'DIGITS': 1}"
      ]
     },
     "execution_count": 20,
     "metadata": {},
     "output_type": "execute_result"
    }
   ],
   "source": [
    "def func5(s):\n",
    "    try:\n",
    "        l = 0\n",
    "        d = 0\n",
    "        s = s.lower()\n",
    "        for i in s:\n",
    "            if i in 'qwertyuiopasdfghjklzxcvbnm':\n",
    "                l=l+1\n",
    "            elif i in '1234567890':\n",
    "                d = d+1\n",
    "        return {'LETTERS':l,'DIGITS':d}\n",
    "    except Exception as e:\n",
    "        print(\"There was some error\",e)\n",
    "        lg.exception(str(e))\n",
    "        \n",
    "func5('This is 5th question.')\n",
    "            "
   ]
  },
  {
   "cell_type": "markdown",
   "id": "9b968075",
   "metadata": {},
   "source": [
    "6. A website requires the users to input username and password to register. Write a program to check the validity of password input by users. Following are the criteria for checking the password:\n",
    "    1. At least 1 letter between [a-z]\n",
    "    2. At least 1 number between [0-9]\n",
    "    1. At least 1 letter between [A-Z]\n",
    "    3. At least 1 character from $#@\n",
    "    4. Minimum length of transaction password: 6\n",
    "    5. Maximum length of transaction password: 12\n",
    "    \n",
    "Your program should accept a sequence of comma separated passwords and will check them\n",
    "according to the above criteria. Passwords that match the criteria are to be printed, each\n",
    "separated by a comma."
   ]
  },
  {
   "cell_type": "code",
   "execution_count": 29,
   "id": "7a6a273f",
   "metadata": {},
   "outputs": [
    {
     "data": {
      "text/plain": [
       "['Adsfe#2ad']"
      ]
     },
     "execution_count": 29,
     "metadata": {},
     "output_type": "execute_result"
    }
   ],
   "source": [
    "def passcheck(*args):\n",
    "  #  try:\n",
    "        valid = []\n",
    "        for password in args:\n",
    "            n = len(password)\n",
    "            if n<6 or n>12:\n",
    "                continue\n",
    "            a=0\n",
    "            b=0\n",
    "            c=0\n",
    "            d=0\n",
    "            for i in password:\n",
    "                if i in 'qwertyuiopasdfghjklzxcvbnm':\n",
    "                    a =a+1\n",
    "                elif i in '0123456789':\n",
    "                    b=b+1\n",
    "                elif i in 'QWERTYUIOPASDFGHJKLZXCVBNM':\n",
    "                    c = c+1\n",
    "                elif i in '#$@':\n",
    "                    d = d+1\n",
    "                if a>0 and b>0 and c>0 and d>0:\n",
    "                    valid.append(password)\n",
    "                    break\n",
    "        return valid\n",
    "   # except Exception as e:\n",
    "   #     print(\"There was some error\",e)\n",
    "   #     lg.exception(str(e))\n",
    "        \n",
    "passcheck('Aasde123',\"adfs#\",\"Adsfe#2ad\")\n",
    "    "
   ]
  }
 ],
 "metadata": {
  "kernelspec": {
   "display_name": "Python 3",
   "language": "python",
   "name": "python3"
  },
  "language_info": {
   "codemirror_mode": {
    "name": "ipython",
    "version": 3
   },
   "file_extension": ".py",
   "mimetype": "text/x-python",
   "name": "python",
   "nbconvert_exporter": "python",
   "pygments_lexer": "ipython3",
   "version": "3.8.8"
  }
 },
 "nbformat": 4,
 "nbformat_minor": 5
}

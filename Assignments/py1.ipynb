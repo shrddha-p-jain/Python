{
 "cells": [
  {
   "cell_type": "markdown",
   "metadata": {},
   "source": [
    "# Programming Assignment 1"
   ]
  },
  {
   "cell_type": "markdown",
   "metadata": {},
   "source": [
    "**Q1. Write a python program to print \"Hello Python\"**"
   ]
  },
  {
   "cell_type": "code",
   "execution_count": 1,
   "metadata": {},
   "outputs": [
    {
     "name": "stdout",
     "output_type": "stream",
     "text": [
      "Hello Python\n"
     ]
    }
   ],
   "source": [
    "print('Hello Python')"
   ]
  },
  {
   "cell_type": "markdown",
   "metadata": {},
   "source": [
    "**Q2. Write a python program to do arithmetical operations addition and division&**"
   ]
  },
  {
   "cell_type": "code",
   "execution_count": 2,
   "metadata": {},
   "outputs": [
    {
     "name": "stdout",
     "output_type": "stream",
     "text": [
      "enter a number20\n",
      "enter a number5\n",
      "Sum =  25.0\n",
      "Quotient =  4.0\n"
     ]
    }
   ],
   "source": [
    "a = float(input(\"enter a number\"))\n",
    "b = float(input(\"enter a number\"))\n",
    "print('Sum = ',a+b)\n",
    "if b==0:\n",
    "    print(\"cannot divide a number by 0\")\n",
    "else:\n",
    "    print('Quotient = ',a/b)"
   ]
  },
  {
   "cell_type": "markdown",
   "metadata": {},
   "source": [
    "**Q3. Write a python program to find area of a triangle**"
   ]
  },
  {
   "cell_type": "code",
   "execution_count": 3,
   "metadata": {},
   "outputs": [
    {
     "name": "stdout",
     "output_type": "stream",
     "text": [
      "enter a the length of first side5\n",
      "enter a the length of second side8\n",
      "enter a the length of third side10\n",
      "Area of triangle:  19.81003533565753\n"
     ]
    }
   ],
   "source": [
    "import math\n",
    "a = float(input(\"enter a the length of first side\"))\n",
    "b = float(input(\"enter a the length of second side\"))\n",
    "c = float(input(\"enter a the length of third side\"))\n",
    "if a>0 and b>0 and c>0:\n",
    "    if a+b>c and a+c>b and b+c>a:\n",
    "        s = (a+b+c)/2\n",
    "        print(\"Area of triangle: \", math.sqrt(s*(s-a)*(s-b)*(s-c)))\n",
    "    else:\n",
    "        print(\"A triangle of such dimensions is not possiible\")\n",
    "else:\n",
    "    print(\"One or more sides is less than or equal to zero\")\n"
   ]
  },
  {
   "cell_type": "markdown",
   "metadata": {},
   "source": [
    "**Q4. Write a python program to swap two numbers**"
   ]
  },
  {
   "cell_type": "code",
   "execution_count": 4,
   "metadata": {},
   "outputs": [
    {
     "name": "stdout",
     "output_type": "stream",
     "text": [
      "enter a number3\n",
      "enter a number4\n",
      "Before swapping: 3 4\n",
      "after swapping: 4 3\n"
     ]
    }
   ],
   "source": [
    "a = input(\"enter a number\")\n",
    "b = input(\"enter a number\")\n",
    "print('Before swapping:',a,b)\n",
    "a,b = b,a\n",
    "print('after swapping:',a,b)"
   ]
  },
  {
   "cell_type": "markdown",
   "metadata": {},
   "source": [
    "**Q5. Write a python program to generate a random number** "
   ]
  },
  {
   "cell_type": "code",
   "execution_count": 5,
   "metadata": {},
   "outputs": [
    {
     "name": "stdout",
     "output_type": "stream",
     "text": [
      "enter starting range: 3\n",
      "enter ending range: 10\n",
      "4\n"
     ]
    }
   ],
   "source": [
    "import random\n",
    "a = int(input(\"enter starting range: \"))\n",
    "b = int(input(\"enter ending range: \"))\n",
    "x = random.randint(a,b)\n",
    "print(x)"
   ]
  }
 ],
 "metadata": {
  "kernelspec": {
   "display_name": "Python 3",
   "language": "python",
   "name": "python3"
  },
  "language_info": {
   "codemirror_mode": {
    "name": "ipython",
    "version": 3
   },
   "file_extension": ".py",
   "mimetype": "text/x-python",
   "name": "python",
   "nbconvert_exporter": "python",
   "pygments_lexer": "ipython3",
   "version": "3.8.8"
  }
 },
 "nbformat": 4,
 "nbformat_minor": 4
}

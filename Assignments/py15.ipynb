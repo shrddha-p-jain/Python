{
 "cells": [
  {
   "cell_type": "markdown",
   "id": "45586bfe",
   "metadata": {},
   "source": [
    "# Python programming assignment 15"
   ]
  },
  {
   "cell_type": "markdown",
   "id": "cca8941a",
   "metadata": {},
   "source": [
    "1. Please write a program using generator to print the numbers which can be divisible by 5 and 7 between 0 and n in comma separated form while n is input by console. "
   ]
  },
  {
   "cell_type": "code",
   "execution_count": 1,
   "id": "7f2641ca",
   "metadata": {},
   "outputs": [],
   "source": [
    "import logging as lg\n",
    "lg.basicConfig(filename='error.log',level=lg.INFO)"
   ]
  },
  {
   "cell_type": "code",
   "execution_count": 4,
   "id": "9c6b6bd3",
   "metadata": {},
   "outputs": [
    {
     "name": "stdout",
     "output_type": "stream",
     "text": [
      "Enter a number100\n",
      "0, 5, 7, 10, 14, 15, 20, 21, 25, 28, 30, 35, 40, 42, 45, 49, 50, 55, 56, 60, 63, 65, 70, 75, 77, 80, 84, 85, 90, 91, 95, 98, 100, "
     ]
    }
   ],
   "source": [
    "def gentest(n):\n",
    "    try:\n",
    "        for i in range(n+1):\n",
    "            if i%5==0 or i%7==0:\n",
    "                yield i\n",
    "    except Exception as e:\n",
    "        print(\"There was some error\",e)\n",
    "        lg.exception(str(e))\n",
    "        \n",
    "def printgen():\n",
    "    try:\n",
    "        n = int(input(\"Enter a number\"))\n",
    "        for i in gentest(n):\n",
    "            print(str(i)+\",\",end = \" \")\n",
    "    except Exception as e:\n",
    "        print(\"There was some error\",e)\n",
    "        lg.exception(str(e))\n",
    "        \n",
    "printgen()"
   ]
  },
  {
   "cell_type": "markdown",
   "id": "dbb81dd2",
   "metadata": {},
   "source": [
    "2. Please write a program using generator to print the even numbers between 0 and n in comma separated form while n is input by console."
   ]
  },
  {
   "cell_type": "code",
   "execution_count": 7,
   "id": "7a2a6945",
   "metadata": {},
   "outputs": [
    {
     "name": "stdout",
     "output_type": "stream",
     "text": [
      "Enter a number100\n",
      "0, 2, 4, 6, 8, 10, 12, 14, 16, 18, 20, 22, 24, 26, 28, 30, 32, 34, 36, 38, 40, 42, 44, 46, 48, 50, 52, 54, 56, 58, 60, 62, 64, 66, 68, 70, 72, 74, 76, 78, 80, 82, 84, 86, 88, 90, 92, 94, 96, 98, 100, "
     ]
    }
   ],
   "source": [
    "def EvenGen(n):\n",
    "    try:\n",
    "        i=0\n",
    "        for i in range(n+1):\n",
    "            if i%2==0:\n",
    "                yield i\n",
    "            i+=1\n",
    "    except Exception as e:\n",
    "        print(\"There was some error\",e)\n",
    "        lg.exception(str(e))\n",
    "\n",
    "def printgen():\n",
    "    try:\n",
    "        n = int(input(\"Enter a number\"))\n",
    "        for i in EvenGen(n):\n",
    "            print(str(i)+\",\",end = \" \")\n",
    "    except Exception as e:\n",
    "        print(\"There was some error\",e)\n",
    "        lg.exception(str(e))\n",
    "        \n",
    "printgen()"
   ]
  },
  {
   "cell_type": "markdown",
   "id": "e939b629",
   "metadata": {},
   "source": [
    "3. write a program using list comprehension to print the Fibonacci Sequence in comma separated form with a given n input by console."
   ]
  },
  {
   "cell_type": "code",
   "execution_count": 11,
   "id": "7468df3d",
   "metadata": {},
   "outputs": [
    {
     "name": "stdout",
     "output_type": "stream",
     "text": [
      "Enter a number20\n"
     ]
    },
    {
     "data": {
      "text/plain": [
       "'0,1,1,2,3,5,8,13,21,34,55,89,144,233,377,610,987,1597,2584,4181,6765'"
      ]
     },
     "execution_count": 11,
     "metadata": {},
     "output_type": "execute_result"
    }
   ],
   "source": [
    "def fib(n): \n",
    "    try:\n",
    "        if n == 0: \n",
    "            return 0    \n",
    "        elif n == 1: \n",
    "            return 1    \n",
    "        else: \n",
    "            return fib(n-1)+fib(n-2)\n",
    "    except Exception as e:\n",
    "        print(\"There was some error\",e)\n",
    "        lg.exception(str(e))\n",
    "        \n",
    "        \n",
    "def fibn(n):\n",
    "    try:\n",
    "        n = int(n)\n",
    "        values = [str(fib(x)) for x in range(0, n+1)] \n",
    "        return \",\".join(values)\n",
    "    except Exception as e:\n",
    "        print(\"There was some error\",e)\n",
    "        lg.exception(str(e))\n",
    "n = input(\"Enter a number\")\n",
    "fibn(n)"
   ]
  },
  {
   "cell_type": "markdown",
   "id": "546b49d5",
   "metadata": {},
   "source": [
    "4. Assuming that we have some email addresses in the &quot;username@companyname.com&quot; format,\n",
    "please write program to print the user name of a given email address. Both user names and\n",
    "company names are composed of letters only."
   ]
  },
  {
   "cell_type": "code",
   "execution_count": 14,
   "id": "5e90a219",
   "metadata": {},
   "outputs": [
    {
     "name": "stdout",
     "output_type": "stream",
     "text": [
      "123\n",
      "There was some error Input is not an email\n"
     ]
    }
   ],
   "source": [
    "def getname(n):\n",
    "    try:\n",
    "        out = ''\n",
    "        for i in n:\n",
    "            if i!='@':\n",
    "                out=out+i\n",
    "            else:\n",
    "                return out\n",
    "        else:\n",
    "            raise TypeError(\"Input is not an email\")\n",
    "    except Exception as e:\n",
    "        print(\"There was some error\",e)\n",
    "        lg.exception(str(e))\n",
    "        \n",
    "print(getname('123@gmail.com'))\n",
    "getname('asdwe')\n",
    "        \n",
    "        "
   ]
  },
  {
   "cell_type": "markdown",
   "id": "cd0c6db8",
   "metadata": {},
   "source": [
    "5. Define a class named Shape and its subclass Square. The Square class has an init function which takes a length as argument. Both classes have a area function which can print the area of the shape where Shape&#39;s area is 0 by default."
   ]
  },
  {
   "cell_type": "code",
   "execution_count": 27,
   "id": "7f252f56",
   "metadata": {},
   "outputs": [
    {
     "name": "stdout",
     "output_type": "stream",
     "text": [
      "25\n"
     ]
    },
    {
     "data": {
      "text/plain": [
       "0"
      ]
     },
     "execution_count": 27,
     "metadata": {},
     "output_type": "execute_result"
    }
   ],
   "source": [
    "class Shape(object):\n",
    "    def __init__(self):\n",
    "        try:\n",
    "            self.area = 0\n",
    "        except Exception as e:\n",
    "            print(\"There was some error\",e)\n",
    "            lg.exception(str(e))\n",
    "\n",
    "    def ar(self):\n",
    "        try:\n",
    "            return self.area\n",
    "        except Exception as e:\n",
    "            print(\"There was some error\",e)\n",
    "            lg.exception(str(e))\n",
    "\n",
    "class Square(Shape):\n",
    "    def __init__(self, l):\n",
    "        try:\n",
    "            Shape.__init__(self)\n",
    "            self.length = l\n",
    "        except Exception as e:\n",
    "            print(\"There was some error\",e)\n",
    "            lg.exception(str(e))\n",
    "        \n",
    "    def ar(self):\n",
    "        try:\n",
    "            return self.length*self.length\n",
    "        except Exception as e:\n",
    "            print(\"There was some error\",e)\n",
    "            lg.exception(str(e))\n",
    "            \n",
    "            \n",
    "aS= Square(5)\n",
    "print(aS.ar())\n",
    "aS = Shape()\n",
    "aS.ar()"
   ]
  }
 ],
 "metadata": {
  "kernelspec": {
   "display_name": "Python 3",
   "language": "python",
   "name": "python3"
  },
  "language_info": {
   "codemirror_mode": {
    "name": "ipython",
    "version": 3
   },
   "file_extension": ".py",
   "mimetype": "text/x-python",
   "name": "python",
   "nbconvert_exporter": "python",
   "pygments_lexer": "ipython3",
   "version": "3.8.8"
  }
 },
 "nbformat": 4,
 "nbformat_minor": 5
}

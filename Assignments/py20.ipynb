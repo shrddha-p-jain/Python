{
 "cells": [
  {
   "cell_type": "markdown",
   "id": "9177ee98",
   "metadata": {},
   "source": [
    "# Python Programming Assignment 20"
   ]
  },
  {
   "cell_type": "markdown",
   "id": "113d235e",
   "metadata": {},
   "source": [
    "1. Create a function that takes a list of strings and integers, and filters out the list so that it\n",
    "returns a list of integers only."
   ]
  },
  {
   "cell_type": "code",
   "execution_count": 1,
   "id": "100d6e33",
   "metadata": {},
   "outputs": [
    {
     "data": {
      "text/plain": [
       "[1, 2.3, 4]"
      ]
     },
     "execution_count": 1,
     "metadata": {},
     "output_type": "execute_result"
    }
   ],
   "source": [
    "def filter_integers(li):\n",
    "    try:\n",
    "        out = []\n",
    "        for i in li:\n",
    "            if isinstance(i,int) or isinstance(i,float):\n",
    "                out.append(i)\n",
    "        return out\n",
    "    except Exception as e:\n",
    "        print(\"There was some error\",e)\n",
    "        lg.exception(str(e))\n",
    "    \n",
    "filter_integers(['abc',1,2.3,4,'xyz'])"
   ]
  },
  {
   "cell_type": "markdown",
   "id": "8fa51610",
   "metadata": {},
   "source": [
    "2. Given a list of numbers, create a function which returns the list but with each element&#39;s\n",
    "index in the list added to itself. This means you add 0 to the number at index 0, add 1 to the\n",
    "number at index 1, etc... "
   ]
  },
  {
   "cell_type": "code",
   "execution_count": 2,
   "id": "c62fe35d",
   "metadata": {},
   "outputs": [
    {
     "name": "stdout",
     "output_type": "stream",
     "text": [
      "[0, 1, 2, 3, 4, 5]\n",
      "[1, 3, 5, 7, 9, 11]\n"
     ]
    }
   ],
   "source": [
    "def add_indices(li):\n",
    "    try:\n",
    "        out = []\n",
    "        for i,x in enumerate(li):\n",
    "            out.append(i+x)\n",
    "        return out\n",
    "    except Exception as e:\n",
    "        print(\"There was some error\",e)\n",
    "        lg.exception(str(e))\n",
    "        \n",
    "print(add_indices([0,0,0,0,0,0]))\n",
    "print(add_indices([1,2,3,4,5,6]))"
   ]
  },
  {
   "cell_type": "markdown",
   "id": "906c2da4",
   "metadata": {},
   "source": [
    "3. Create a function that takes the height and radius of a cone as arguments and returns the\n",
    "volume of the cone rounded to the nearest hundredth."
   ]
  },
  {
   "cell_type": "code",
   "execution_count": 6,
   "id": "67675ddd",
   "metadata": {},
   "outputs": [
    {
     "name": "stdout",
     "output_type": "stream",
     "text": [
      "12.57\n",
      "565.49\n"
     ]
    }
   ],
   "source": [
    "def cone_vol(h,r):\n",
    "    try:\n",
    "        from math import pi\n",
    "        return round(pi*h*r*r/3,2)\n",
    "    except Exception as e:\n",
    "        print(\"There was some error\",e)\n",
    "        lg.exception(str(e))\n",
    "        \n",
    "print(cone_vol(3,2))\n",
    "print(cone_vol(15,6))"
   ]
  },
  {
   "cell_type": "markdown",
   "id": "faf7a280",
   "metadata": {},
   "source": [
    "4. Write a function that gives the number of dots with its corresponding triangle number of the\n",
    "sequence."
   ]
  },
  {
   "cell_type": "code",
   "execution_count": 10,
   "id": "81148c41",
   "metadata": {},
   "outputs": [
    {
     "name": "stdout",
     "output_type": "stream",
     "text": [
      "1\n",
      "21\n"
     ]
    }
   ],
   "source": [
    "def triangle(n):\n",
    "    try:\n",
    "        if n<1:\n",
    "            raise ValueError(\"Give a number greater than 0\")\n",
    "        return int(n*(n+1)/2)\n",
    "    except Exception as e:\n",
    "        print(\"There was some error\",e)\n",
    "        lg.exception(str(e))\n",
    "        \n",
    "print(triangle(1))\n",
    "print(triangle(6))"
   ]
  },
  {
   "cell_type": "markdown",
   "id": "ba05b119",
   "metadata": {},
   "source": [
    "5. Create a function that takes a list of numbers between 1 and 10 (excluding one number) and\n",
    "returns the missing number."
   ]
  },
  {
   "cell_type": "code",
   "execution_count": 12,
   "id": "ebaef751",
   "metadata": {},
   "outputs": [
    {
     "name": "stdout",
     "output_type": "stream",
     "text": [
      "6\n",
      "8\n"
     ]
    }
   ],
   "source": [
    "def find_missing(li):\n",
    "    try:\n",
    "        missing = -1\n",
    "        for i in range(1,11):\n",
    "            if i in li:\n",
    "                pass\n",
    "            else:\n",
    "                missing = i\n",
    "                return missing\n",
    "    except Exception as e:\n",
    "        print(\"There was some error\",e)\n",
    "        lg.exception(str(e))\n",
    "        \n",
    "print(find_missing([1,2,3,4,5,7,8,9,10]))\n",
    "print(find_missing([2,3,4,5,1,9,6,7,10]))"
   ]
  },
  {
   "cell_type": "code",
   "execution_count": null,
   "id": "639d2261",
   "metadata": {},
   "outputs": [],
   "source": []
  }
 ],
 "metadata": {
  "kernelspec": {
   "display_name": "Python 3",
   "language": "python",
   "name": "python3"
  },
  "language_info": {
   "codemirror_mode": {
    "name": "ipython",
    "version": 3
   },
   "file_extension": ".py",
   "mimetype": "text/x-python",
   "name": "python",
   "nbconvert_exporter": "python",
   "pygments_lexer": "ipython3",
   "version": "3.8.8"
  }
 },
 "nbformat": 4,
 "nbformat_minor": 5
}

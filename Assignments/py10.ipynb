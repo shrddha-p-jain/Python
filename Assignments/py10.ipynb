{
 "cells": [
  {
   "cell_type": "markdown",
   "id": "8e4c8427",
   "metadata": {},
   "source": [
    "# Python Practical Assignment 10"
   ]
  },
  {
   "cell_type": "markdown",
   "id": "08be557c",
   "metadata": {},
   "source": [
    "1. Write a Python program to find sum of elements in list?\n",
    "2. Write a Python program to Multiply all numbers in the list?\n",
    "3. Write a Python program to find smallest number in a list?\n",
    "4. Write a Python program to find largest number in a list?\n",
    "5. Write a Python program to find second largest number in a list?\n",
    "6. Write a Python program to find N largest elements from a list?\n",
    "7. Write a Python program to print even numbers in a list?\n",
    "8. Write a Python program to print odd numbers in a List?\n",
    "9. Write a Python program to Remove empty List from List?\n",
    "10. Write a Python program to Cloning or Copying a list?\n",
    "11. Write a Python program to Count occurrences of an element in a list?"
   ]
  },
  {
   "cell_type": "code",
   "execution_count": 14,
   "id": "486e6072",
   "metadata": {},
   "outputs": [
    {
     "data": {
      "text/plain": [
       "18"
      ]
     },
     "execution_count": 14,
     "metadata": {},
     "output_type": "execute_result"
    }
   ],
   "source": [
    "#1\n",
    "def sumli(li):\n",
    "    try:\n",
    "        sum = 0\n",
    "        for i in li:\n",
    "            sum = sum+i\n",
    "        return sum\n",
    "    except TypeError:\n",
    "         print(\"enter a list of numbers only\")\n",
    "li = [5,6,7]\n",
    "sumli(li)"
   ]
  },
  {
   "cell_type": "code",
   "execution_count": 16,
   "id": "e8a378c7",
   "metadata": {},
   "outputs": [
    {
     "data": {
      "text/plain": [
       "210"
      ]
     },
     "execution_count": 16,
     "metadata": {},
     "output_type": "execute_result"
    }
   ],
   "source": [
    "#2\n",
    "def multli(li):\n",
    "    try:\n",
    "        prod = 1\n",
    "        for i in li:\n",
    "            prod = prod*i\n",
    "        return prod\n",
    "    except TypeError:\n",
    "         print(\"enter a list of numbers only\")\n",
    "li = [5,6,7]\n",
    "multli(li)"
   ]
  },
  {
   "cell_type": "code",
   "execution_count": 19,
   "id": "cd18e391",
   "metadata": {},
   "outputs": [
    {
     "data": {
      "text/plain": [
       "6"
      ]
     },
     "execution_count": 19,
     "metadata": {},
     "output_type": "execute_result"
    }
   ],
   "source": [
    "#3\n",
    "def sml(li):\n",
    "    try:\n",
    "        li.sort()\n",
    "        return int(li[0])\n",
    "    except TypeError:\n",
    "         print(\"enter a list of numbers only\")\n",
    "li = [8,6,7]\n",
    "sml(li)"
   ]
  },
  {
   "cell_type": "code",
   "execution_count": 20,
   "id": "4c6c6a7a",
   "metadata": {},
   "outputs": [
    {
     "data": {
      "text/plain": [
       "8"
      ]
     },
     "execution_count": 20,
     "metadata": {},
     "output_type": "execute_result"
    }
   ],
   "source": [
    "#4\n",
    "def lrg(li):\n",
    "    try:\n",
    "        li.sort()\n",
    "        return int(li[-1])\n",
    "    except TypeError:\n",
    "         print(\"enter a list of numbers only\")\n",
    "li = [8,6,7]\n",
    "lrg(li)"
   ]
  },
  {
   "cell_type": "code",
   "execution_count": 21,
   "id": "412fabb0",
   "metadata": {},
   "outputs": [
    {
     "data": {
      "text/plain": [
       "7"
      ]
     },
     "execution_count": 21,
     "metadata": {},
     "output_type": "execute_result"
    }
   ],
   "source": [
    "#5\n",
    "def slrg(li):\n",
    "    try:\n",
    "        li.sort()\n",
    "        return int(li[-2])\n",
    "    except TypeError:\n",
    "         print(\"enter a list of numbers only\")\n",
    "li = [8,6,7]\n",
    "slrg(li)"
   ]
  },
  {
   "cell_type": "code",
   "execution_count": 22,
   "id": "b9f945ca",
   "metadata": {},
   "outputs": [
    {
     "data": {
      "text/plain": [
       "7"
      ]
     },
     "execution_count": 22,
     "metadata": {},
     "output_type": "execute_result"
    }
   ],
   "source": [
    "#6\n",
    "def nlrg(li,n):\n",
    "    try:\n",
    "        li.sort()\n",
    "        return int(li[-n])\n",
    "    except TypeError:\n",
    "         print(\"enter a list of numbers only\")\n",
    "li = [8,6,7,5,3,10,9]\n",
    "nlrg(li,4)"
   ]
  },
  {
   "cell_type": "code",
   "execution_count": 25,
   "id": "70f84f65",
   "metadata": {},
   "outputs": [
    {
     "data": {
      "text/plain": [
       "[8, 6, 10]"
      ]
     },
     "execution_count": 25,
     "metadata": {},
     "output_type": "execute_result"
    }
   ],
   "source": [
    "#7\n",
    "def enum(li):\n",
    "    try:\n",
    "        en = [num for num in li if num % 2 == 0]\n",
    "        return en\n",
    "    except TypeError:\n",
    "         print(\"enter a list of numbers only\")\n",
    "li = [8,6,7,5,3,10,9]\n",
    "enum(li)"
   ]
  },
  {
   "cell_type": "code",
   "execution_count": 26,
   "id": "5edd9f29",
   "metadata": {},
   "outputs": [
    {
     "data": {
      "text/plain": [
       "[7, 5, 3, 9]"
      ]
     },
     "execution_count": 26,
     "metadata": {},
     "output_type": "execute_result"
    }
   ],
   "source": [
    "#8\n",
    "def onum(li):\n",
    "    try:\n",
    "        on = [num for num in li if num % 2 != 0]\n",
    "        return on\n",
    "    except TypeError:\n",
    "         print(\"enter a list of numbers only\")\n",
    "li = [8,6,7,5,3,10,9]\n",
    "onum(li)"
   ]
  },
  {
   "cell_type": "code",
   "execution_count": 30,
   "id": "06ecfc91",
   "metadata": {},
   "outputs": [
    {
     "data": {
      "text/plain": [
       "[8, 'abc', 6, 7, 5, [3, 10], 9]"
      ]
     },
     "execution_count": 30,
     "metadata": {},
     "output_type": "execute_result"
    }
   ],
   "source": [
    "#9\n",
    "def erem(li):\n",
    "    li1 = [ele for ele in li if ele  != []]\n",
    "    return li1\n",
    "\n",
    "li = [8,[],'abc',[],[],6,7,[],[],5,[3,10],9]\n",
    "erem(li)"
   ]
  },
  {
   "cell_type": "code",
   "execution_count": 33,
   "id": "ecf276ea",
   "metadata": {},
   "outputs": [
    {
     "data": {
      "text/plain": [
       "[8, 6, 7, 5, 3, 10, 9]"
      ]
     },
     "execution_count": 33,
     "metadata": {},
     "output_type": "execute_result"
    }
   ],
   "source": [
    "#10\n",
    "def clone(li):\n",
    "    li_copy = list(li)\n",
    "    return li_copy\n",
    "\n",
    "li = [8,6,7,5,3,10,9]\n",
    "clone(li)"
   ]
  },
  {
   "cell_type": "code",
   "execution_count": 34,
   "id": "7e00fbc0",
   "metadata": {},
   "outputs": [
    {
     "data": {
      "text/plain": [
       "3"
      ]
     },
     "execution_count": 34,
     "metadata": {},
     "output_type": "execute_result"
    }
   ],
   "source": [
    "#11\n",
    "def cnt(li,x):\n",
    "    count = 0\n",
    "    for i in li:\n",
    "        if x==i:\n",
    "            count = count+1\n",
    "    return count\n",
    "\n",
    "li = [8,2,3,4,2,3,4,2,3,4,5]\n",
    "cnt(li,2)"
   ]
  }
 ],
 "metadata": {
  "kernelspec": {
   "display_name": "Python 3",
   "language": "python",
   "name": "python3"
  },
  "language_info": {
   "codemirror_mode": {
    "name": "ipython",
    "version": 3
   },
   "file_extension": ".py",
   "mimetype": "text/x-python",
   "name": "python",
   "nbconvert_exporter": "python",
   "pygments_lexer": "ipython3",
   "version": "3.8.8"
  }
 },
 "nbformat": 4,
 "nbformat_minor": 5
}

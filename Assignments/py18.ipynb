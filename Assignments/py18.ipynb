{
 "cells": [
  {
   "cell_type": "markdown",
   "id": "08f8dcb7",
   "metadata": {},
   "source": [
    "# Python Programming Assignment 18"
   ]
  },
  {
   "cell_type": "code",
   "execution_count": 1,
   "id": "31f5d239",
   "metadata": {},
   "outputs": [],
   "source": [
    "import logging as lg\n",
    "lg.basicConfig(filename='error.log',level=lg.INFO)"
   ]
  },
  {
   "cell_type": "markdown",
   "id": "c9e0c56a",
   "metadata": {},
   "source": [
    "1. Create a function that takes a list of non-negative integers and strings and return a new list\n",
    "without the strings."
   ]
  },
  {
   "cell_type": "code",
   "execution_count": 1,
   "id": "ac5d5806",
   "metadata": {},
   "outputs": [
    {
     "data": {
      "text/plain": [
       "[1, 2.3, 4]"
      ]
     },
     "execution_count": 1,
     "metadata": {},
     "output_type": "execute_result"
    }
   ],
   "source": [
    "def filter_out_str(li):\n",
    "    try:\n",
    "        out = []\n",
    "        for i in li:\n",
    "            if isinstance(i,str) == False:\n",
    "                out.append(i)\n",
    "        return out\n",
    "    except Exception as e:\n",
    "        print(\"There was some error\",e)\n",
    "        lg.exception(str(e))\n",
    "    \n",
    "filter_integers(['abc',1,2.3,4,'xyz'])"
   ]
  },
  {
   "cell_type": "markdown",
   "id": "b03b803a",
   "metadata": {},
   "source": [
    "2. The &quot;Reverser&quot; takes a string as input and returns that string in reverse order, with the\n",
    "opposite case."
   ]
  },
  {
   "cell_type": "code",
   "execution_count": 19,
   "id": "680d5225",
   "metadata": {},
   "outputs": [
    {
     "data": {
      "text/plain": [
       "'fedCBA'"
      ]
     },
     "execution_count": 19,
     "metadata": {},
     "output_type": "execute_result"
    }
   ],
   "source": [
    "def reverser(s):\n",
    "    try:\n",
    "        s = s[::-1]\n",
    "        out = ''\n",
    "        for i in s:\n",
    "            if i.islower():\n",
    "                out += i.upper()\n",
    "            else:\n",
    "                if i.isupper():\n",
    "                    out += i.lower()\n",
    "        return out\n",
    "    except Exception as e:\n",
    "        print(\"There was some error\",e)\n",
    "        lg.exception(str(e))\n",
    "\n",
    "reverser('abcDEF')\n",
    "                "
   ]
  },
  {
   "cell_type": "markdown",
   "id": "7df059b4",
   "metadata": {},
   "source": [
    "3. Your task is to unpack the list into three variables, being first,\n",
    "middle, and last, with middle being everything in between the first and last element. Then\n",
    "print all three variables. "
   ]
  },
  {
   "cell_type": "code",
   "execution_count": 21,
   "id": "cefb4c54",
   "metadata": {},
   "outputs": [
    {
     "name": "stdout",
     "output_type": "stream",
     "text": [
      "first: 1\n",
      "middle: [2, 3, 4, 5]\n",
      "last: 6\n"
     ]
    }
   ],
   "source": [
    "def list_unpack(li):\n",
    "    first,*middle,last = li\n",
    "    print('first:',first)\n",
    "    print('middle:', middle)\n",
    "    print('last:',last)\n",
    "    \n",
    "list_unpack([1,2,3,4,5,6])"
   ]
  },
  {
   "cell_type": "markdown",
   "id": "d8e72a71",
   "metadata": {},
   "source": [
    "4. Write a function that calculates the factorial of a number recursively."
   ]
  },
  {
   "cell_type": "code",
   "execution_count": 23,
   "id": "329f37b4",
   "metadata": {},
   "outputs": [
    {
     "data": {
      "text/plain": [
       "120"
      ]
     },
     "execution_count": 23,
     "metadata": {},
     "output_type": "execute_result"
    }
   ],
   "source": [
    "def factorial(x):\n",
    "    try:\n",
    "        if x == 1:\n",
    "            return 1\n",
    "        else:\n",
    "            return (x * factorial(x-1))\n",
    "    except Exception as e:\n",
    "        print(\"There was some error\",e)\n",
    "        lg.exception(str(e))\n",
    "        \n",
    "factorial(5)\n"
   ]
  },
  {
   "cell_type": "markdown",
   "id": "f8623830",
   "metadata": {},
   "source": [
    "5. Write a function that moves all elements of one type to the end of the list."
   ]
  },
  {
   "cell_type": "code",
   "execution_count": 26,
   "id": "23496005",
   "metadata": {},
   "outputs": [
    {
     "name": "stdout",
     "output_type": "stream",
     "text": [
      "[2, 3, 4, 2, 3, 4, 1, 1, 1]\n",
      "[1, 2, 3, 's', 's']\n"
     ]
    }
   ],
   "source": [
    "def move_to_last(li,ele):\n",
    "    try:\n",
    "        start = []\n",
    "        end = []\n",
    "        for i in li:\n",
    "            if i == ele:\n",
    "                end.append(i)\n",
    "            else:\n",
    "                start.append(i)\n",
    "        return start+end\n",
    "    except Exception as e:\n",
    "        print(\"There was some error\",e)\n",
    "        lg.exception(str(e))\n",
    "        \n",
    "print(move_to_last([1,2,3,4,1,1,2,3,4],1))\n",
    "print(move_to_last([1,'s',2,'s',3],'s'))"
   ]
  },
  {
   "cell_type": "code",
   "execution_count": null,
   "id": "2d75704e",
   "metadata": {},
   "outputs": [],
   "source": []
  }
 ],
 "metadata": {
  "kernelspec": {
   "display_name": "Python 3",
   "language": "python",
   "name": "python3"
  },
  "language_info": {
   "codemirror_mode": {
    "name": "ipython",
    "version": 3
   },
   "file_extension": ".py",
   "mimetype": "text/x-python",
   "name": "python",
   "nbconvert_exporter": "python",
   "pygments_lexer": "ipython3",
   "version": "3.8.8"
  }
 },
 "nbformat": 4,
 "nbformat_minor": 5
}

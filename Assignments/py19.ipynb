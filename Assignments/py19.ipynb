{
 "cells": [
  {
   "cell_type": "markdown",
   "id": "a4a1ceb8",
   "metadata": {},
   "source": [
    "# Python Programming Assignment 19"
   ]
  },
  {
   "cell_type": "code",
   "execution_count": 1,
   "id": "33efd498",
   "metadata": {},
   "outputs": [],
   "source": [
    "import logging as lg\n",
    "lg.basicConfig(filename='error.log',level=lg.INFO)"
   ]
  },
  {
   "cell_type": "markdown",
   "id": "033ef6f1",
   "metadata": {},
   "source": [
    "1. Create a function that takes a string and returns a string in which each character is repeated\n",
    "once."
   ]
  },
  {
   "cell_type": "code",
   "execution_count": 3,
   "id": "724cdd4b",
   "metadata": {},
   "outputs": [
    {
     "data": {
      "text/plain": [
       "'TThhiiss  iiss  aa  tteesstt  ssttrriinngg'"
      ]
     },
     "execution_count": 3,
     "metadata": {},
     "output_type": "execute_result"
    }
   ],
   "source": [
    "def test(s):\n",
    "    try:\n",
    "        out = ''\n",
    "        for i in s:\n",
    "            out = out+i+i\n",
    "        return out\n",
    "    except Exception as e:\n",
    "        print(\"There was some error\",e)\n",
    "        lg.exception(str(e))\n",
    "        \n",
    "test('This is a test string')"
   ]
  },
  {
   "cell_type": "markdown",
   "id": "381c54fe",
   "metadata": {},
   "source": [
    "2. Create a function that reverses a boolean value and returns the string &quot;boolean expected&quot;\n",
    "if another variable type is given. "
   ]
  },
  {
   "cell_type": "code",
   "execution_count": 5,
   "id": "78920c8c",
   "metadata": {},
   "outputs": [
    {
     "name": "stdout",
     "output_type": "stream",
     "text": [
      "Okay\n",
      "boolean expected\n"
     ]
    }
   ],
   "source": [
    "def boolexp(inp):\n",
    "    try:\n",
    "        if isinstance(inp,bool):\n",
    "            return 'Okay'\n",
    "        else:\n",
    "            raise TypeError(\"boolean expected\")\n",
    "    except TypeError as e:\n",
    "        return e\n",
    "    except Exception as e1:\n",
    "        print(\"There was some error\",e1)\n",
    "        lg.exception(str(e1))\n",
    "        \n",
    "print(boolexp(True))\n",
    "print(boolexp('abc'))"
   ]
  },
  {
   "cell_type": "markdown",
   "id": "2f82c726",
   "metadata": {},
   "source": [
    "3. Create a function that returns the thickness (in meters) of a piece of paper after folding it n number of times. The paper starts off with a thickness of 0.5mm."
   ]
  },
  {
   "cell_type": "code",
   "execution_count": 9,
   "id": "4a2848e1",
   "metadata": {},
   "outputs": [
    {
     "name": "stdout",
     "output_type": "stream",
     "text": [
      "0.001\n",
      "0.008\n",
      "1048.576\n"
     ]
    }
   ],
   "source": [
    "def num_folds(fold):\n",
    "    try:\n",
    "        return pow(2,fold)*.0005\n",
    "    except Exception as e1:\n",
    "        print(\"There was some error\",e1)\n",
    "        lg.exception(str(e1))\n",
    "        \n",
    "print(num_folds(1))\n",
    "print(num_folds(4))\n",
    "print(num_folds(21))"
   ]
  },
  {
   "cell_type": "markdown",
   "id": "71fe607e",
   "metadata": {},
   "source": [
    "4. Create a function that takes a single string as argument and returns an ordered list containing\n",
    "the indices of all capital letters in the string."
   ]
  },
  {
   "cell_type": "code",
   "execution_count": 12,
   "id": "a01aa351",
   "metadata": {},
   "outputs": [
    {
     "name": "stdout",
     "output_type": "stream",
     "text": [
      "[0, 5, 6, 8, 10, 15]\n"
     ]
    }
   ],
   "source": [
    "def upper_indices(s):\n",
    "    try:\n",
    "        li = []\n",
    "        for i in range(len(s)):\n",
    "            if s[i].isupper():\n",
    "                li.append(i)\n",
    "        return li\n",
    "    except Exception as e:\n",
    "        print(\"There was some error\",e)\n",
    "        lg.exception(str(e))\n",
    "        \n",
    "print(upper_indices('This IS A Test String'))"
   ]
  },
  {
   "cell_type": "markdown",
   "id": "005b8c33",
   "metadata": {},
   "source": [
    "5. Using list comprehensions, create a function that finds all even numbers from 1 to the given\n",
    "number."
   ]
  },
  {
   "cell_type": "code",
   "execution_count": 15,
   "id": "7fc0218d",
   "metadata": {},
   "outputs": [
    {
     "data": {
      "text/plain": [
       "[2, 4, 6, 8, 10, 12, 14, 16]"
      ]
     },
     "execution_count": 15,
     "metadata": {},
     "output_type": "execute_result"
    }
   ],
   "source": [
    "def even(n):\n",
    "    try:\n",
    "        return [i for i in range(1,n+1) if i%2==0]\n",
    "    except Exception as e:\n",
    "        print(\"There was some error\",e)\n",
    "        lg.exception(str(e))\n",
    "        \n",
    "even(16)\n"
   ]
  },
  {
   "cell_type": "code",
   "execution_count": null,
   "id": "720707de",
   "metadata": {},
   "outputs": [],
   "source": []
  }
 ],
 "metadata": {
  "kernelspec": {
   "display_name": "Python 3",
   "language": "python",
   "name": "python3"
  },
  "language_info": {
   "codemirror_mode": {
    "name": "ipython",
    "version": 3
   },
   "file_extension": ".py",
   "mimetype": "text/x-python",
   "name": "python",
   "nbconvert_exporter": "python",
   "pygments_lexer": "ipython3",
   "version": "3.8.8"
  }
 },
 "nbformat": 4,
 "nbformat_minor": 5
}

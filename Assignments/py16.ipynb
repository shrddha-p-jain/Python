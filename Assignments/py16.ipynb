{
 "cells": [
  {
   "cell_type": "markdown",
   "id": "74303e39",
   "metadata": {},
   "source": [
    "# Python programming assignment 16"
   ]
  },
  {
   "cell_type": "markdown",
   "id": "429cf0eb",
   "metadata": {},
   "source": [
    "1. Write a function that stutters a word as if someone is struggling to read it. The\n",
    "first two letters are repeated twice with an ellipsis ... and space after each, and then the\n",
    "word is pronounced with a question mark ?."
   ]
  },
  {
   "cell_type": "code",
   "execution_count": 1,
   "id": "eaeb7301",
   "metadata": {},
   "outputs": [],
   "source": [
    "import logging as lg\n",
    "lg.basicConfig(filename='error.log',level=lg.INFO)"
   ]
  },
  {
   "cell_type": "code",
   "execution_count": 2,
   "id": "96f5dc5f",
   "metadata": {},
   "outputs": [
    {
     "data": {
      "text/plain": [
       "'in... in... incredible?'"
      ]
     },
     "execution_count": 2,
     "metadata": {},
     "output_type": "execute_result"
    }
   ],
   "source": [
    "def stut(s):\n",
    "    try:\n",
    "        s = str(s)\n",
    "        rep=s[:2]+'... '\n",
    "        return rep+rep+s+'?'\n",
    "    except Exception as e:\n",
    "        print(\"There was some error\",e)\n",
    "        lg.exception(str(e))\n",
    "        \n",
    "stut('incredible')"
   ]
  },
  {
   "cell_type": "markdown",
   "id": "c4dd4e62",
   "metadata": {},
   "source": [
    "2. Create a function that takes an angle in radians and returns the corresponding\n",
    "angle in degrees rounded to one decimal place."
   ]
  },
  {
   "cell_type": "code",
   "execution_count": 8,
   "id": "3db7f83d",
   "metadata": {},
   "outputs": [
    {
     "name": "stdout",
     "output_type": "stream",
     "text": [
      "57.3\n",
      "1145.9\n",
      "2864.8\n"
     ]
    }
   ],
   "source": [
    "def toDegree(r):\n",
    "    from math import pi\n",
    "    try:\n",
    "        degree = r * (180/pi)\n",
    "        return round(degree*10)/10\n",
    "    except Exception as e:\n",
    "        print(\"There was some error\",e)\n",
    "        lg.exception(str(e))\n",
    "        \n",
    "print(toDegree(1))        \n",
    "print(toDegree(20))\n",
    "print(toDegree(50))"
   ]
  },
  {
   "cell_type": "markdown",
   "id": "7d0a118e",
   "metadata": {},
   "source": [
    "3. establish if a given integer num is a Curzon number. If 1 plus\n",
    "2 elevated to num is exactly divisible by 1 plus 2 multiplied by num, then num is a Curzon\n",
    "number.\n",
    "\n",
    "is_curzon(5) ➞ True\n",
    "- 2 ** 5 + 1 = 33\n",
    "- 2 * 5 + 1 = 11\n",
    "- 33 is a multiple of 11"
   ]
  },
  {
   "cell_type": "code",
   "execution_count": 9,
   "id": "e87d62fb",
   "metadata": {},
   "outputs": [
    {
     "name": "stdout",
     "output_type": "stream",
     "text": [
      "True\n",
      "False\n",
      "True\n"
     ]
    }
   ],
   "source": [
    "def isCurzon(n):\n",
    "    try:\n",
    "        if n<0:\n",
    "            raise ValueError(\"Enter a positive number\")\n",
    "        p1 = 2**n+1\n",
    "        p2 = 2*n+1\n",
    "        if p1%p2==0:\n",
    "            return True\n",
    "        else:\n",
    "            return False\n",
    "    except Exception as e:\n",
    "        print(\"There was some error\",e)\n",
    "        lg.exception(str(e))\n",
    "        \n",
    "print(isCurzon(5))\n",
    "print(isCurzon(10))\n",
    "print(isCurzon(14))"
   ]
  },
  {
   "cell_type": "markdown",
   "id": "2a932a13",
   "metadata": {},
   "source": [
    "4. Given the side length x find the area of a hexagon."
   ]
  },
  {
   "cell_type": "code",
   "execution_count": 11,
   "id": "56e030b6",
   "metadata": {},
   "outputs": [
    {
     "name": "stdout",
     "output_type": "stream",
     "text": [
      "2.6\n",
      "10.4\n",
      "23.4\n"
     ]
    }
   ],
   "source": [
    "def areaHex(side):\n",
    "    try:\n",
    "        if side<=0:\n",
    "            raise ValueError(\"Enter a positive number\")\n",
    "        from math import sqrt\n",
    "        ar = 3*sqrt(3)*side*side/2\n",
    "        return round(ar*10)/10\n",
    "    except Exception as e:\n",
    "        print(\"There was some error\",e)\n",
    "        lg.exception(str(e))\n",
    "        \n",
    "print(areaHex(1))\n",
    "print(areaHex(2))\n",
    "print(areaHex(3))"
   ]
  },
  {
   "cell_type": "markdown",
   "id": "7bec0d46",
   "metadata": {},
   "source": [
    "5. Create a function that returns a base-2 (binary) representation of a base-10\n",
    "(decimal) string number. To convert is simple: ((2) means base-2 and (10) means base-10)\n",
    "010101001(2) = 1 + 8 + 32 + 128."
   ]
  },
  {
   "cell_type": "code",
   "execution_count": 14,
   "id": "3b6252de",
   "metadata": {},
   "outputs": [
    {
     "name": "stdout",
     "output_type": "stream",
     "text": [
      "1\n",
      "101\n",
      "1010\n",
      "10100\n"
     ]
    }
   ],
   "source": [
    "def toBin(decimal):\n",
    "    try:\n",
    "        out = ''\n",
    "        while decimal>=1:\n",
    "            rem = decimal%2\n",
    "            out = out+str(rem)\n",
    "            decimal = decimal//2\n",
    "        return out[::-1]\n",
    "    except Exception as e:\n",
    "        print(\"There was some error\",e)\n",
    "        lg.exception(str(e))\n",
    "        \n",
    "print(toBin(1))\n",
    "print(toBin(5))\n",
    "print(toBin(10))\n",
    "print(toBin(20))\n",
    "        "
   ]
  }
 ],
 "metadata": {
  "kernelspec": {
   "display_name": "Python 3",
   "language": "python",
   "name": "python3"
  },
  "language_info": {
   "codemirror_mode": {
    "name": "ipython",
    "version": 3
   },
   "file_extension": ".py",
   "mimetype": "text/x-python",
   "name": "python",
   "nbconvert_exporter": "python",
   "pygments_lexer": "ipython3",
   "version": "3.8.8"
  }
 },
 "nbformat": 4,
 "nbformat_minor": 5
}

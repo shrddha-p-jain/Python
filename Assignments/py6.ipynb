{
 "cells": [
  {
   "cell_type": "markdown",
   "id": "8f11dc4d",
   "metadata": {},
   "source": [
    "# Python Programming Assignment 6"
   ]
  },
  {
   "cell_type": "markdown",
   "id": "bf15393d",
   "metadata": {},
   "source": [
    "1. Write a Python Program to Display Fibonacci Sequence Using Recursion?\n",
    "2. Write a Python Program to Find Factorial of Number Using Recursion?\n",
    "3. Write a Python Program to calculate your Body Mass Index?\n",
    "4. Write a Python Program to calculate the natural logarithm of any number?\n",
    "5. Write a Python Program for cube sum of first n natural numbers?"
   ]
  },
  {
   "cell_type": "code",
   "execution_count": 7,
   "id": "b3473c14",
   "metadata": {},
   "outputs": [
    {
     "name": "stdout",
     "output_type": "stream",
     "text": [
      "how many terms do you want10\n"
     ]
    },
    {
     "data": {
      "text/plain": [
       "[0, 1, 1, 2, 3, 5, 8, 13, 21, 34]"
      ]
     },
     "execution_count": 7,
     "metadata": {},
     "output_type": "execute_result"
    }
   ],
   "source": [
    "#1\n",
    "def fibn(n):  \n",
    "    if n <= 1:  \n",
    "        return n  \n",
    "    else:  \n",
    "        return(fibn(n-1) + fibn(n-2))  \n",
    "\n",
    "def fib_range(n):\n",
    "    try:\n",
    "        n = int(n)\n",
    "        if n<=0:\n",
    "            raise ValueError\n",
    "        li = []\n",
    "        for i in range(n):\n",
    "            li.append(fibn(i))\n",
    "        return li\n",
    "    except ValueError:\n",
    "        print(\"Enter valid number\")\n",
    "    \n",
    "n = input(\"how many terms do you want\")\n",
    "\n",
    "fib_range(n)\n"
   ]
  },
  {
   "cell_type": "code",
   "execution_count": 12,
   "id": "d0ef4fe6",
   "metadata": {},
   "outputs": [
    {
     "name": "stdout",
     "output_type": "stream",
     "text": [
      "Enter a number0\n"
     ]
    },
    {
     "data": {
      "text/plain": [
       "1"
      ]
     },
     "execution_count": 12,
     "metadata": {},
     "output_type": "execute_result"
    }
   ],
   "source": [
    "#2\n",
    "def factorial(n):\n",
    "    try:\n",
    "        n = int(n)\n",
    "        if n<0:\n",
    "            raise ValueError\n",
    "        if n == 1 or n == 0:  \n",
    "            return 1  \n",
    "        else:  \n",
    "            return n*factorial(n-1)\n",
    "    except ValueError:\n",
    "        print(\"Enter valid number\")\n",
    "\n",
    "n = input(\"Enter a number\")\n",
    "factorial(n)"
   ]
  },
  {
   "cell_type": "code",
   "execution_count": 13,
   "id": "88d93faa",
   "metadata": {},
   "outputs": [
    {
     "name": "stdout",
     "output_type": "stream",
     "text": [
      "Enter your height in cm170\n",
      "Enter your weight in kg80\n"
     ]
    },
    {
     "data": {
      "text/plain": [
       "27.68166089965398"
      ]
     },
     "execution_count": 13,
     "metadata": {},
     "output_type": "execute_result"
    }
   ],
   "source": [
    "# 3\n",
    "def bmi():\n",
    "    try:\n",
    "        h = float(input(\"Enter your height in cm\"))\n",
    "        w = float(input(\"Enter your weight in kg\"))\n",
    "        if h<=0 or w<=0:\n",
    "            raise ValueError\n",
    "        return w/((h/100)**2)\n",
    "    except ValueError:\n",
    "        print(\"Enter valid height and weight\")\n",
    "\n",
    "bmi()        "
   ]
  },
  {
   "cell_type": "code",
   "execution_count": 16,
   "id": "d7457bcc",
   "metadata": {},
   "outputs": [
    {
     "name": "stdout",
     "output_type": "stream",
     "text": [
      "Enter a number1.3\n"
     ]
    },
    {
     "data": {
      "text/plain": [
       "0.26236426446749106"
      ]
     },
     "execution_count": 16,
     "metadata": {},
     "output_type": "execute_result"
    }
   ],
   "source": [
    "#4\n",
    "def ln(n):\n",
    "    from math import log\n",
    "    try:\n",
    "        n = float(n)\n",
    "        return log(n)\n",
    "    except ValueError:\n",
    "        print(\"Enter valid number\")\n",
    "\n",
    "n = input(\"Enter a number\")\n",
    "ln(n)"
   ]
  },
  {
   "cell_type": "code",
   "execution_count": 18,
   "id": "7b8a3c21",
   "metadata": {},
   "outputs": [
    {
     "name": "stdout",
     "output_type": "stream",
     "text": [
      "Enter a number100\n"
     ]
    },
    {
     "data": {
      "text/plain": [
       "25502500.0"
      ]
     },
     "execution_count": 18,
     "metadata": {},
     "output_type": "execute_result"
    }
   ],
   "source": [
    "#5\n",
    "def sum_cubes(n):\n",
    "    try:\n",
    "        n = int(n)\n",
    "        if n<=0:\n",
    "            raise ValueError\n",
    "        return (n*(n+1)/2)**2\n",
    "    except ValueError:\n",
    "        print(\"Enter valid number\")\n",
    "\n",
    "n = input(\"Enter a number\")\n",
    "sum_cubes(n)"
   ]
  }
 ],
 "metadata": {
  "kernelspec": {
   "display_name": "Python 3",
   "language": "python",
   "name": "python3"
  },
  "language_info": {
   "codemirror_mode": {
    "name": "ipython",
    "version": 3
   },
   "file_extension": ".py",
   "mimetype": "text/x-python",
   "name": "python",
   "nbconvert_exporter": "python",
   "pygments_lexer": "ipython3",
   "version": "3.8.8"
  }
 },
 "nbformat": 4,
 "nbformat_minor": 5
}

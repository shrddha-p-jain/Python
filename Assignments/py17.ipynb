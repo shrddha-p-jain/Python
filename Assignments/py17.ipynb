{
 "cells": [
  {
   "cell_type": "markdown",
   "id": "93f74903",
   "metadata": {},
   "source": [
    "# Python Programming Assignment 17"
   ]
  },
  {
   "cell_type": "markdown",
   "id": "0e26d8dd",
   "metadata": {},
   "source": [
    "1. Create a function that takes three arguments a, b, c and returns the sum of the numbers that are evenly divided by c from the range a, b inclusive."
   ]
  },
  {
   "cell_type": "code",
   "execution_count": 1,
   "id": "97d7a162",
   "metadata": {},
   "outputs": [],
   "source": [
    "import logging as lg\n",
    "lg.basicConfig(filename='error.log',level=lg.INFO)"
   ]
  },
  {
   "cell_type": "code",
   "execution_count": 7,
   "id": "ca5110cb",
   "metadata": {},
   "outputs": [
    {
     "name": "stdout",
     "output_type": "stream",
     "text": [
      "0\n",
      "30\n",
      "18\n"
     ]
    }
   ],
   "source": [
    "def sum_range(a,b,c):\n",
    "    try:\n",
    "        sum = 0\n",
    "        for i in range(a,b+1):\n",
    "            if i%c==0:\n",
    "                sum+=(i)\n",
    "        return sum\n",
    "    except Exception as e:\n",
    "        print(\"There was some error\",e)\n",
    "        lg.exception(str(e))\n",
    "        \n",
    "print(sum_range(1,10,20))\n",
    "print(sum_range(1,10,2))\n",
    "print(sum_range(1,10,3))"
   ]
  },
  {
   "cell_type": "markdown",
   "id": "327e0a4d",
   "metadata": {},
   "source": [
    "2. Create a function that returns True if a given inequality expression is correct and\n",
    "False otherwise."
   ]
  },
  {
   "cell_type": "code",
   "execution_count": 20,
   "id": "7583c49b",
   "metadata": {},
   "outputs": [
    {
     "name": "stdout",
     "output_type": "stream",
     "text": [
      "True\n",
      "False\n",
      "False\n"
     ]
    }
   ],
   "source": [
    "def check_inequality(s):\n",
    "  #  try:\n",
    "        le = s.split('<')\n",
    "        for i,x in enumerate(le):\n",
    "            le[i]=x.split('>')\n",
    "            \n",
    "       # check = True    \n",
    "        for i in le:\n",
    "            if len(i)>1:\n",
    "                for j in range(len(i)-1):\n",
    "                    if i[j]>i[j+1]:\n",
    "                        continue\n",
    "                    else:\n",
    "                        return False\n",
    "                    \n",
    "        ge = s.split('>')\n",
    "        for i,x in enumerate(ge):\n",
    "            ge[i]=x.split('<')\n",
    "            \n",
    "        check = True    \n",
    "        for i in ge:\n",
    "            if len(i)>1:\n",
    "                for j in range(len(i)-1):\n",
    "                    if i[j]<i[j+1]:\n",
    "                        continue\n",
    "                    else:\n",
    "                        return False             \n",
    "                    \n",
    "                    \n",
    "        \n",
    "        return True\n",
    " #   except Exception as e:\n",
    " #       print(\"There was some error\",e)\n",
    " #       lg.exception(str(e))\n",
    "        \n",
    "print(check_inequality('3<5<7'))\n",
    "print(check_inequality('13>44>33>1'))\n",
    "print(check_inequality('1<2<3>4'))\n",
    "            \n"
   ]
  },
  {
   "cell_type": "markdown",
   "id": "f1b1c1b3",
   "metadata": {},
   "source": [
    "3. Create a function that replaces all the vowels in a string with a specified character."
   ]
  },
  {
   "cell_type": "code",
   "execution_count": 4,
   "id": "3a98c733",
   "metadata": {},
   "outputs": [
    {
     "name": "stdout",
     "output_type": "stream",
     "text": [
      "Th$s $s $n $x$mpl$\n"
     ]
    }
   ],
   "source": [
    "def replace_vow(s,r):\n",
    "    try:\n",
    "        rep_str = ''\n",
    "        for i in s:\n",
    "            if i.lower() in 'aeiou':\n",
    "                rep_str+=r\n",
    "            else:\n",
    "                rep_str +=i\n",
    "        return rep_str\n",
    "    except Exception as e:\n",
    "        print(\"There was some error\",e)\n",
    "        lg.exception(str(e))\n",
    "        \n",
    "        \n",
    "print(replace_vow(\"This is an example\",'$'))"
   ]
  },
  {
   "cell_type": "markdown",
   "id": "2163a02d",
   "metadata": {},
   "source": [
    "4. Write a function that calculates the factorial of a number recursively."
   ]
  },
  {
   "cell_type": "code",
   "execution_count": 5,
   "id": "e91ee0ec",
   "metadata": {},
   "outputs": [
    {
     "data": {
      "text/plain": [
       "120"
      ]
     },
     "execution_count": 5,
     "metadata": {},
     "output_type": "execute_result"
    }
   ],
   "source": [
    "def factorial(x):\n",
    "    try:\n",
    "        if x == 1:\n",
    "            return 1\n",
    "        else:\n",
    "            return (x * factorial(x-1))\n",
    "    except Exception as e:\n",
    "        print(\"There was some error\",e)\n",
    "        lg.exception(str(e))\n",
    "        \n",
    "factorial(5)\n"
   ]
  },
  {
   "cell_type": "markdown",
   "id": "4f44e9c2",
   "metadata": {},
   "source": [
    "5. Create a function that computes the hamming distance between two strings."
   ]
  },
  {
   "cell_type": "code",
   "execution_count": 8,
   "id": "c2f72a1d",
   "metadata": {},
   "outputs": [
    {
     "name": "stdout",
     "output_type": "stream",
     "text": [
      "1\n",
      "2\n",
      "2\n"
     ]
    }
   ],
   "source": [
    "def HammingDist(s1,s2):\n",
    "    try:\n",
    "        if len(s1) != len(s2):\n",
    "            raise Exception(\"Enter strings of equal length\")\n",
    "        n = len(s1)\n",
    "        hamd = 0\n",
    "        for i in range(n):\n",
    "            if s1[i] != s2[i]:\n",
    "                hamd+=1\n",
    "        return hamd\n",
    "    except Exception as e:\n",
    "        print(\"There was some error\",e)\n",
    "        lg.exception(str(e))\n",
    "        \n",
    "        \n",
    "print(HammingDist(\"abcd\",'abce'))\n",
    "print(HammingDist(\"abcd\",'efcd'))\n",
    "print(HammingDist(\"adcd\",'adef'))"
   ]
  },
  {
   "cell_type": "code",
   "execution_count": null,
   "id": "aa993067",
   "metadata": {},
   "outputs": [],
   "source": []
  }
 ],
 "metadata": {
  "kernelspec": {
   "display_name": "Python 3",
   "language": "python",
   "name": "python3"
  },
  "language_info": {
   "codemirror_mode": {
    "name": "ipython",
    "version": 3
   },
   "file_extension": ".py",
   "mimetype": "text/x-python",
   "name": "python",
   "nbconvert_exporter": "python",
   "pygments_lexer": "ipython3",
   "version": "3.8.8"
  }
 },
 "nbformat": 4,
 "nbformat_minor": 5
}

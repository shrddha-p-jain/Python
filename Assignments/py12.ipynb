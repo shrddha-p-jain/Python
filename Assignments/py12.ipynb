{
 "cells": [
  {
   "cell_type": "markdown",
   "id": "e8b3cc1a",
   "metadata": {},
   "source": [
    "# Python Programming Assignment 12"
   ]
  },
  {
   "cell_type": "markdown",
   "id": "0343a34d",
   "metadata": {},
   "source": [
    "1. Write a Python program to Extract Unique values dictionary values?\n",
    "2. Write a Python program to find the sum of all items in a dictionary?\n",
    "3. Write a Python program to Merging two Dictionaries?\n",
    "4. Write a Python program to convert key-values list to flat dictionary?\n",
    "5. Write a Python program to insertion at the beginning in OrderedDict?\n",
    "6. Write a Python program to check order of character in string using OrderedDict()?\n",
    "7. Write a Python program to sort Python Dictionaries by Key or Value?"
   ]
  },
  {
   "cell_type": "code",
   "execution_count": 1,
   "id": "35e1bcc8",
   "metadata": {},
   "outputs": [],
   "source": [
    "import logging as lg\n",
    "lg.basicConfig(filename='error.log',level=lg.INFO)"
   ]
  },
  {
   "cell_type": "code",
   "execution_count": 7,
   "id": "f6f8f3fd",
   "metadata": {},
   "outputs": [
    {
     "data": {
      "text/plain": [
       "[1, 2, 3]"
      ]
     },
     "execution_count": 7,
     "metadata": {},
     "output_type": "execute_result"
    }
   ],
   "source": [
    "# 1\n",
    "def unique(d):\n",
    "    try:\n",
    "        if type(d)!=dict:\n",
    "            raise ValueError\n",
    "        s ={ele for val in d.values() for ele in val}\n",
    "        return list(s)\n",
    "    except Exception as e:\n",
    "        print(\"There was some error\",e)\n",
    "        lg.exception(str(e))\n",
    "        \n",
    "unique({'a':(1,2,3),'b':[1,2,3]})"
   ]
  },
  {
   "cell_type": "code",
   "execution_count": 11,
   "id": "e6d85f19",
   "metadata": {},
   "outputs": [
    {
     "data": {
      "text/plain": [
       "7"
      ]
     },
     "execution_count": 11,
     "metadata": {},
     "output_type": "execute_result"
    }
   ],
   "source": [
    "# 2\n",
    "def sumD(d):\n",
    "    try:\n",
    "        if type(d)!=dict:\n",
    "            raise ValueError\n",
    "        return sum(d.values())\n",
    "    except Exception as e:\n",
    "        print(\"There was some error\",e)\n",
    "        lg.exception(str(e))\n",
    "        \n",
    "sumD({'a':1,'b':2,'c':3,'d':1})"
   ]
  },
  {
   "cell_type": "code",
   "execution_count": 14,
   "id": "e11c36b7",
   "metadata": {},
   "outputs": [
    {
     "data": {
      "text/plain": [
       "{'x': (1, 2, 3), 'y': [1, 2, 3], 'a': 1, 'b': 2, 'c': 3, 'd': 1}"
      ]
     },
     "execution_count": 14,
     "metadata": {},
     "output_type": "execute_result"
    }
   ],
   "source": [
    "# 3\n",
    "\n",
    "def mergeD(d1,d2):\n",
    "    try:\n",
    "        d2.update(d1)\n",
    "        return d2\n",
    "    except Exception as e:\n",
    "        print(\"There was some error\",e)\n",
    "        lg.exception(str(e))\n",
    "d1 ={'a':1,'b':2,'c':3,'d':1}\n",
    "d2 = {'x':(1,2,3),'y':[1,2,3]}\n",
    "\n",
    "mergeD(d1,d2)"
   ]
  },
  {
   "cell_type": "code",
   "execution_count": 17,
   "id": "1d7cd6d2",
   "metadata": {},
   "outputs": [
    {
     "data": {
      "text/plain": [
       "{1: 1, 2: 2, 3: 3}"
      ]
     },
     "execution_count": 17,
     "metadata": {},
     "output_type": "execute_result"
    }
   ],
   "source": [
    "# 4 \n",
    "\n",
    "def flattenD(d):\n",
    "    try:\n",
    "        return dict(zip(d['keys'], d['values']))\n",
    "    except Exception as e:\n",
    "        print(\"There was some error\",e)\n",
    "        lg.exception(str(e))\n",
    "\n",
    "d = {'keys':[1,2,3],'values':[1,2,3]}\n",
    "flattenD(d)"
   ]
  },
  {
   "cell_type": "code",
   "execution_count": 20,
   "id": "6f9b1c9c",
   "metadata": {},
   "outputs": [
    {
     "data": {
      "text/plain": [
       "OrderedDict([('c', 3), ('a', 1), ('b', 2)])"
      ]
     },
     "execution_count": 20,
     "metadata": {},
     "output_type": "execute_result"
    }
   ],
   "source": [
    "# 5\n",
    "from collections import OrderedDict\n",
    "\n",
    "def insertB(od,key,val):\n",
    "    try:\n",
    "        od.update({key:val})\n",
    "        od.move_to_end(key, last = False)\n",
    "        return od\n",
    "    except Exception as e:\n",
    "        print(\"There was some error\",e)\n",
    "        lg.exception(str(e))\n",
    "od = OrderedDict([('a',1),('b',2)])\n",
    "insertB(od,'c',3)"
   ]
  },
  {
   "cell_type": "code",
   "execution_count": 27,
   "id": "7fcda987",
   "metadata": {},
   "outputs": [
    {
     "name": "stdout",
     "output_type": "stream",
     "text": [
      "True\n",
      "False\n"
     ]
    }
   ],
   "source": [
    "#6\n",
    "from collections import OrderedDict \n",
    "def check(s, char): \n",
    "    try:\n",
    "        d = OrderedDict.fromkeys(s) \n",
    "        plen = 0\n",
    "        for key,value in d.items(): \n",
    "            if (key == char[plen]): \n",
    "                plen = plen + 1\n",
    "            if (plen == (len(char))): \n",
    "                return True\n",
    "        return False\n",
    "    except Exception as e:\n",
    "        print(\"There was some error\",e)\n",
    "        lg.exception(str(e))\n",
    "        \n",
    "print(check('This is a string','ar'))\n",
    "print(check(\"This is a string\",'as'))\n"
   ]
  },
  {
   "cell_type": "code",
   "execution_count": 34,
   "id": "84908e5e",
   "metadata": {},
   "outputs": [
    {
     "name": "stdout",
     "output_type": "stream",
     "text": [
      "{'a': 1, 'b': 2, 'c': 3, 'd': 1, 'x': 1, 'y': 2}\n",
      "{'x': 1, 'a': 1, 'd': 1, 'y': 2, 'b': 2, 'c': 3}\n"
     ]
    }
   ],
   "source": [
    "#7\n",
    "def sortD(d,by):\n",
    "    try:\n",
    "        res = {}\n",
    "        if int(by) == 1:\n",
    "            return dict(sorted(d.items()))\n",
    "          #  for i in sorted(d):\n",
    "           #     res[i]=d[i]\n",
    "        elif int(by) ==2:\n",
    "            for i in sorted(d.values()):\n",
    "                for k in d.keys():\n",
    "                    if d[k] == i:\n",
    "                        res[k] = d[k]\n",
    "                        \n",
    "            return res\n",
    "            \n",
    "        else:\n",
    "            raise Exception(\"by can take values 1 or 2 only\",by)\n",
    "    except ValueError as v:\n",
    "        print(\"Wrong input. \")\n",
    "        lg.error(v)\n",
    "    except IndexError as ie:\n",
    "        print(\"Enter a valid character position\")\n",
    "        lg.error(ie)\n",
    "    except Exception as e:\n",
    "        print(\"There was some error\",e)\n",
    "        lg.exception(str(e))\n",
    "d = {'x': 1, 'y':2, 'a': 1, 'b': 2, 'c': 3, 'd': 1} \n",
    "print(sortD(d,1))\n",
    "print(sortD(d,2))\n"
   ]
  }
 ],
 "metadata": {
  "kernelspec": {
   "display_name": "Python 3",
   "language": "python",
   "name": "python3"
  },
  "language_info": {
   "codemirror_mode": {
    "name": "ipython",
    "version": 3
   },
   "file_extension": ".py",
   "mimetype": "text/x-python",
   "name": "python",
   "nbconvert_exporter": "python",
   "pygments_lexer": "ipython3",
   "version": "3.8.8"
  }
 },
 "nbformat": 4,
 "nbformat_minor": 5
}

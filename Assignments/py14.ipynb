{
 "cells": [
  {
   "cell_type": "markdown",
   "id": "68e2b215",
   "metadata": {},
   "source": [
    "# Python Programming Assignment 14"
   ]
  },
  {
   "cell_type": "markdown",
   "id": "4baaad0f",
   "metadata": {},
   "source": [
    "1. Define a class with a generator which can iterate the numbers, which are divisible by\n",
    "7, between a given range 0 and n."
   ]
  },
  {
   "cell_type": "code",
   "execution_count": 9,
   "id": "fd2e7f97",
   "metadata": {},
   "outputs": [],
   "source": [
    "import logging as lg\n",
    "lg.basicConfig(filename='error.log',level=lg.INFO)"
   ]
  },
  {
   "cell_type": "code",
   "execution_count": 10,
   "id": "c1fa4f5a",
   "metadata": {},
   "outputs": [
    {
     "name": "stdout",
     "output_type": "stream",
     "text": [
      "0\n",
      "7\n",
      "14\n",
      "21\n",
      "28\n",
      "35\n",
      "42\n",
      "49\n"
     ]
    }
   ],
   "source": [
    "class genmults:#\n",
    "\n",
    "    def mult7(self,n):\n",
    "        try:\n",
    "            for i in range(int(n/7)+1):\n",
    "                yield i*7\n",
    "        except Exception as e:\n",
    "            print(\"There was some error\",e)\n",
    "            lg.exception(str(e))\n",
    "            \n",
    "\n",
    "x = genmults()\n",
    "\n",
    "for i in x.mult7(49):\n",
    "    print(i)"
   ]
  },
  {
   "cell_type": "markdown",
   "id": "dfb7757b",
   "metadata": {},
   "source": [
    "2. Write a program to compute the frequency of the words from the input. The output should output after sorting the key alphanumerically."
   ]
  },
  {
   "cell_type": "code",
   "execution_count": 12,
   "id": "317dd55b",
   "metadata": {},
   "outputs": [
    {
     "name": "stdout",
     "output_type": "stream",
     "text": [
      "Enter a stringNew to Python or choosing between Python 2 and Python 3? Read Python 2 or Python 3.\n"
     ]
    },
    {
     "data": {
      "text/plain": [
       "[('2', 2),\n",
       " ('3.', 1),\n",
       " ('3?', 1),\n",
       " ('New', 1),\n",
       " ('Python', 5),\n",
       " ('Read', 1),\n",
       " ('and', 1),\n",
       " ('between', 1),\n",
       " ('choosing', 1),\n",
       " ('or', 2),\n",
       " ('to', 1)]"
      ]
     },
     "execution_count": 12,
     "metadata": {},
     "output_type": "execute_result"
    }
   ],
   "source": [
    "def freq(inp):\n",
    "    from collections import Counter\n",
    "    try:\n",
    "        words = inp.split(\" \")\n",
    "        word_freq = Counter(words)\n",
    "        return (sorted(word_freq.items()))\n",
    "    except Exception as e:\n",
    "        print(\"There was some error\",e)\n",
    "        lg.exception(str(e))\n",
    "        \n",
    "        \n",
    "inp = input(\"Enter a string\")\n",
    "freq(inp)"
   ]
  },
  {
   "cell_type": "markdown",
   "id": "ec9604d1",
   "metadata": {},
   "source": [
    "3. Define a class Person and its two child classes: Male and Female. All classes have a method &quot;getGender&quot; which can print &quot;Male&quot; for Male class and &quot;Female&quot; for Female\n",
    "class."
   ]
  },
  {
   "cell_type": "code",
   "execution_count": 14,
   "id": "d1a5a2d6",
   "metadata": {},
   "outputs": [
    {
     "name": "stdout",
     "output_type": "stream",
     "text": [
      "Male\n",
      "Female\n",
      "Not given\n"
     ]
    }
   ],
   "source": [
    "class Person:\n",
    "    def __init__(self,name,age):\n",
    "        self.age = age\n",
    "        self.name = name\n",
    "    def getGender(self):\n",
    "        return 'Not given'\n",
    "    \n",
    "class Male(Person):\n",
    "    def __init__(self,*args):\n",
    "        super(Male,self).__init__(*args)\n",
    "        self.gender = \"Male\"\n",
    "    def getGender(self):\n",
    "        return self.gender\n",
    "    \n",
    "class Female(Person):\n",
    "    def __init__(self,*args):\n",
    "        super(Female,self).__init__(*args)\n",
    "        self.gender = \"Female\"\n",
    "    def getGender(self):\n",
    "        return self.gender\n",
    "    \n",
    "m = Male('Ram',13)\n",
    "print(m.getGender())\n",
    "f = Female('Sita',20)\n",
    "print(f.getGender())\n",
    "p = Person('Un',35)\n",
    "print(p.getGender())"
   ]
  },
  {
   "cell_type": "markdown",
   "id": "2b184bfb",
   "metadata": {},
   "source": [
    "4. Please write a program to generate all sentences where subject is in [&quot;I&quot;, &quot;You&quot;] and verb is in [&quot;Play&quot;, &quot;Love&quot;] and the object is in [&quot;Hockey&quot;,&quot;Football&quot;]."
   ]
  },
  {
   "cell_type": "code",
   "execution_count": 15,
   "id": "1c49a96e",
   "metadata": {},
   "outputs": [
    {
     "data": {
      "text/plain": [
       "['I play hockey.',\n",
       " 'I play football.',\n",
       " 'I love hockey.',\n",
       " 'I love football.',\n",
       " 'You play hockey.',\n",
       " 'You play football.',\n",
       " 'You love hockey.',\n",
       " 'You love football.']"
      ]
     },
     "execution_count": 15,
     "metadata": {},
     "output_type": "execute_result"
    }
   ],
   "source": [
    "def test():\n",
    "    sub = ['I',\"You\"]\n",
    "    verb = ['play','love']\n",
    "    obj = ['hockey','football']\n",
    "    out = []\n",
    "    for i in sub:\n",
    "        for j in verb:\n",
    "            for k in obj:\n",
    "                out.append(i+\" \"+ j +\" \"+k+\".\")\n",
    "    return out\n",
    "\n",
    "test()\n",
    "            "
   ]
  },
  {
   "cell_type": "markdown",
   "id": "5a909a6d",
   "metadata": {},
   "source": [
    "5. Please write a program to compress and decompress the string &quot;hello world!hello world!hello world!hello world!&quot;."
   ]
  },
  {
   "cell_type": "code",
   "execution_count": 18,
   "id": "b4bda995",
   "metadata": {},
   "outputs": [
    {
     "name": "stdout",
     "output_type": "stream",
     "text": [
      "b'x\\x9c\\xcbH\\xcd\\xc9\\xc9W(\\xcf/\\xcaIQ\\xcc \\x82\\r\\x00\\xbd[\\x11\\xf5'\n",
      "b'hello world!hello world!hello world!hello world!'\n"
     ]
    }
   ],
   "source": [
    "def hello():\n",
    "    s = 'hello world!hello world!hello world!hello world!'\n",
    "    sbytes = bytes(s, 'utf-8')\n",
    "    compressed = zlib.compress(sbytes)\n",
    "    print(compressed)\n",
    "    print(zlib.decompress(compressed))\n",
    "    \n",
    "hello()"
   ]
  },
  {
   "cell_type": "markdown",
   "id": "757e3538",
   "metadata": {},
   "source": [
    "6. write a binary search function which searches an item in a sorted list. The function should return the index of element to be searched in the list."
   ]
  },
  {
   "cell_type": "code",
   "execution_count": 23,
   "id": "2473e16a",
   "metadata": {},
   "outputs": [
    {
     "name": "stdout",
     "output_type": "stream",
     "text": [
      "2\n",
      "There was some error Counldn't find the variable\n",
      "None\n"
     ]
    }
   ],
   "source": [
    "def binary_search(li, n):\n",
    "    try:\n",
    "        low = 0  \n",
    "        high = len(li) - 1  \n",
    "        mid = 0  \n",
    "        while low <= high:   \n",
    "            mid = (high + low) // 2  \n",
    "            if li[mid] < n:  \n",
    "                low = mid + 1    \n",
    "            elif li[mid] > n:  \n",
    "                high = mid - 1  \n",
    "            else:  \n",
    "                return mid  \n",
    "        raise Exception(\"Counldn't find the variable\")\n",
    "    except Exception as e:\n",
    "        print(\"There was some error\",e)\n",
    "        lg.exception(str(e))\n",
    "\n",
    "    \n",
    "li = [1,2,3,4,5,6]  \n",
    "n = 3  \n",
    "  \n",
    "# Function call   \n",
    "result = binary_search(li, n)  \n",
    "print(result)\n",
    "print(binary_search(li, 10))"
   ]
  }
 ],
 "metadata": {
  "kernelspec": {
   "display_name": "Python 3",
   "language": "python",
   "name": "python3"
  },
  "language_info": {
   "codemirror_mode": {
    "name": "ipython",
    "version": 3
   },
   "file_extension": ".py",
   "mimetype": "text/x-python",
   "name": "python",
   "nbconvert_exporter": "python",
   "pygments_lexer": "ipython3",
   "version": "3.8.8"
  }
 },
 "nbformat": 4,
 "nbformat_minor": 5
}

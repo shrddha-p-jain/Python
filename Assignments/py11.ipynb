{
 "cells": [
  {
   "cell_type": "markdown",
   "id": "a9b3511c",
   "metadata": {},
   "source": [
    "# Python Programming Assignment 11"
   ]
  },
  {
   "cell_type": "markdown",
   "id": "53b2368d",
   "metadata": {},
   "source": [
    "1. Write a Python program to find words which are greater than given length k?\n",
    "2. Write a Python program for removing i-th character from a string?\n",
    "3. Write a Python program to split and join a string?\n",
    "4. Write a Python to check if a given string is binary string or not?\n",
    "5. Write a Python program to find uncommon words from two Strings?\n",
    "6. Write a Python to find all duplicate characters in string?\n",
    "7. Write a Python Program to check if a string contains any special character?"
   ]
  },
  {
   "cell_type": "code",
   "execution_count": 3,
   "id": "d9eeb1bb",
   "metadata": {},
   "outputs": [],
   "source": [
    "import logging as lg\n",
    "lg.basicConfig(filename='error.log',level=lg.INFO)"
   ]
  },
  {
   "cell_type": "code",
   "execution_count": 12,
   "id": "56eb9c64",
   "metadata": {},
   "outputs": [
    {
     "name": "stdout",
     "output_type": "stream",
     "text": [
      "Enter a stringThis is a string.\n",
      "Enter a number3\n"
     ]
    },
    {
     "data": {
      "text/plain": [
       "['This', 'string']"
      ]
     },
     "execution_count": 12,
     "metadata": {},
     "output_type": "execute_result"
    }
   ],
   "source": [
    "# 1\n",
    "def word_greater_than(s,k):\n",
    "    try:\n",
    "        k = int(k)\n",
    "        l = []\n",
    "        words = s.split(\" \")\n",
    "        for x in words:\n",
    "            if x[-1] not in '.,!/;:\\'\"':\n",
    "                if len(x) > k:\n",
    "                    l.append(x)\n",
    "            else:\n",
    "                if (len(x)-1)>k:\n",
    "                    l.append(x[:len(x)-1])\n",
    "        return l\n",
    "    except ValueError as v:\n",
    "        print(\"Enter valid number\")\n",
    "        lg.error(v)\n",
    "    except Exception as e:\n",
    "        print(\"There was some error\")\n",
    "        lg.exception(str(e))\n",
    " \n",
    " \n",
    "s = input('Enter a string')\n",
    "k = input('Enter a number')\n",
    "word_greater_than(s,k)"
   ]
  },
  {
   "cell_type": "code",
   "execution_count": 15,
   "id": "4f21156a",
   "metadata": {},
   "outputs": [
    {
     "name": "stdout",
     "output_type": "stream",
     "text": [
      "Enter a stringThis is a string.\n",
      "Enter a number4\n"
     ]
    },
    {
     "data": {
      "text/plain": [
       "'Thi is a string.'"
      ]
     },
     "execution_count": 15,
     "metadata": {},
     "output_type": "execute_result"
    }
   ],
   "source": [
    "# 2 \n",
    "## i-th charcater will be at i-1 index\n",
    "def remove_i(s,i):\n",
    "    try:\n",
    "        i = int(k)\n",
    "        return s[:(i-1)]+s[i:]\n",
    "    except ValueError as v:\n",
    "        print(\"Enter valid number\")\n",
    "        lg.error(v)\n",
    "    except IndexError as ie:\n",
    "        print(\"Enter a valid character position\")\n",
    "        lg.error(ie)\n",
    "    except Exception as e:\n",
    "        print(\"There was some error\")\n",
    "        lg.exception(str(e))\n",
    " \n",
    " \n",
    "s = input('Enter a string')\n",
    "k = input('Enter a number')\n",
    "remove_i(s,k)"
   ]
  },
  {
   "cell_type": "code",
   "execution_count": 32,
   "id": "de1c9396",
   "metadata": {},
   "outputs": [
    {
     "name": "stdout",
     "output_type": "stream",
     "text": [
      "give inputThis is a string\n",
      "Enter a 1 to split, 2 to join1\n"
     ]
    },
    {
     "data": {
      "text/plain": [
       "['This', 'is', 'a', 'string']"
      ]
     },
     "execution_count": 32,
     "metadata": {},
     "output_type": "execute_result"
    }
   ],
   "source": [
    "# 3\n",
    "def split_or_join(s,do,on = \" \"):\n",
    "    try:\n",
    "        if int(do) == 1:\n",
    "            if type(s) == str:\n",
    "                return s.split(on)\n",
    "            else:\n",
    "                raise Exception(\"To split, input must be string\",s)\n",
    "        elif int(do) ==2:\n",
    "            if type(s) == list:\n",
    "                return on.join(s)\n",
    "            else:\n",
    "                raise Exception(\"To split, input must be list\",s)\n",
    "        else:\n",
    "            raise Exception(\"Do can take values 1 or 2 only\",do)\n",
    "    except ValueError as v:\n",
    "        print(\"Wrong input. \")\n",
    "        lg.error(v)\n",
    "    except IndexError as ie:\n",
    "        print(\"Enter a valid character position\")\n",
    "        lg.error(ie)\n",
    "    except Exception as e:\n",
    "        print(\"There was some error\",e)\n",
    "        lg.exception(str(e))\n",
    " \n",
    " \n",
    "s = input('give input')\n",
    "do = input('Enter a 1 to split, 2 to join')\n",
    "split_or_join(s,do)"
   ]
  },
  {
   "cell_type": "code",
   "execution_count": 36,
   "id": "eb9ceab9",
   "metadata": {},
   "outputs": [
    {
     "name": "stdout",
     "output_type": "stream",
     "text": [
      "False\n",
      "True\n",
      "True\n"
     ]
    }
   ],
   "source": [
    "# 4\n",
    "def isBinary(s):\n",
    "    try:\n",
    "        s = str(s)\n",
    "        s1 = set(s)\n",
    "        s2 = {'0', '1'}\n",
    "        if s1 == s2 or s1 == {'0'} or s2 == {'1'}:\n",
    "            return True\n",
    "        else :\n",
    "            return False  \n",
    "    except Exception as e:\n",
    "        print(\"There was some error\",e)\n",
    "        lg.exception(str(e))\n",
    "        \n",
    "        \n",
    "print(isBinary('124356'))\n",
    "print(isBinary('1011011'))\n",
    "print(isBinary(1011101))"
   ]
  },
  {
   "cell_type": "code",
   "execution_count": 40,
   "id": "9d604cbc",
   "metadata": {},
   "outputs": [
    {
     "data": {
      "text/plain": [
       "['This', 'is', 'a', 'contains', 'words']"
      ]
     },
     "execution_count": 40,
     "metadata": {},
     "output_type": "execute_result"
    }
   ],
   "source": [
    "# 5\n",
    "def notCommon(a,b):\n",
    "    try:\n",
    "        a1 = a.split()\n",
    "        b1 = b.split()\n",
    "        words = []\n",
    "        for i in a1:\n",
    "            if i not in b1:\n",
    "                words.append(i)\n",
    "        for j in b1:\n",
    "            if j not in a1:\n",
    "                words.append(j)\n",
    "        return words\n",
    "    except Exception as e:\n",
    "        print(\"There was some error\",e)\n",
    "        lg.exception(str(e))    \n",
    "    \n",
    "a = 'This is a string'\n",
    "b = 'string contains words'\n",
    "notCommon(a,b)"
   ]
  },
  {
   "cell_type": "code",
   "execution_count": 56,
   "id": "ce0de84a",
   "metadata": {},
   "outputs": [
    {
     "data": {
      "text/plain": [
       "['i', 's', ' ']"
      ]
     },
     "execution_count": 56,
     "metadata": {},
     "output_type": "execute_result"
    }
   ],
   "source": [
    "# 6\n",
    "def dupChar(s):\n",
    "    try:\n",
    "        more = []\n",
    "        for i in s:\n",
    "            if s.count(i) > 1:\n",
    "                if i not in more:\n",
    "                    more.append(i)\n",
    "        return more\n",
    "    except Exception as e:\n",
    "        print(\"There was some error\",e)\n",
    "        lg.exception(str(e))\n",
    "        \n",
    "dupChar('This is a string')"
   ]
  },
  {
   "cell_type": "code",
   "execution_count": 58,
   "id": "018444b4",
   "metadata": {},
   "outputs": [
    {
     "name": "stdout",
     "output_type": "stream",
     "text": [
      "False\n",
      "True\n"
     ]
    }
   ],
   "source": [
    "# 7\n",
    "def isSpecial(s):\n",
    "    try:\n",
    "        for i in s:\n",
    "            if i in '!@#$$%^&*()_+-=`~{}|[]\\;,./<>?\\'\"':\n",
    "                return True\n",
    "        else:\n",
    "            return False\n",
    "    except Exception as e:\n",
    "        print(\"There was some error\",e)\n",
    "        lg.exception(str(e))\n",
    "        \n",
    "print(isSpecial('This is a string'))\n",
    "print(isSpecial('Th!s h@s spec!@l Ch@r@cter$'))"
   ]
  },
  {
   "cell_type": "code",
   "execution_count": null,
   "id": "b60680cb",
   "metadata": {},
   "outputs": [],
   "source": []
  },
  {
   "cell_type": "code",
   "execution_count": null,
   "id": "4f2e2f74",
   "metadata": {},
   "outputs": [],
   "source": []
  },
  {
   "cell_type": "code",
   "execution_count": null,
   "id": "c73b5089",
   "metadata": {},
   "outputs": [],
   "source": []
  },
  {
   "cell_type": "code",
   "execution_count": null,
   "id": "ca75dad9",
   "metadata": {},
   "outputs": [],
   "source": []
  },
  {
   "cell_type": "code",
   "execution_count": null,
   "id": "fd7e9da8",
   "metadata": {},
   "outputs": [],
   "source": []
  }
 ],
 "metadata": {
  "kernelspec": {
   "display_name": "Python 3",
   "language": "python",
   "name": "python3"
  },
  "language_info": {
   "codemirror_mode": {
    "name": "ipython",
    "version": 3
   },
   "file_extension": ".py",
   "mimetype": "text/x-python",
   "name": "python",
   "nbconvert_exporter": "python",
   "pygments_lexer": "ipython3",
   "version": "3.8.8"
  }
 },
 "nbformat": 4,
 "nbformat_minor": 5
}

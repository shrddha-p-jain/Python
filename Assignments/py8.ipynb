{
 "cells": [
  {
   "cell_type": "markdown",
   "id": "fcf40226",
   "metadata": {},
   "source": [
    "# Python Practical Assignment 8"
   ]
  },
  {
   "cell_type": "markdown",
   "id": "35b6b59d",
   "metadata": {},
   "source": [
    "1. Write a Python Program to Add Two Matrices?\n",
    "2. Write a Python Program to Multiply Two Matrices?\n",
    "3. Write a Python Program to Transpose a Matrix?\n",
    "4. Write a Python Program to Sort Words in Alphabetic Order?\n",
    "5. Write a Python Program to Remove Punctuation From a String?"
   ]
  },
  {
   "cell_type": "code",
   "execution_count": 2,
   "id": "d31ecd4e",
   "metadata": {},
   "outputs": [
    {
     "data": {
      "text/plain": [
       "[[2, 3, 4], [2, 3, 4]]"
      ]
     },
     "execution_count": 2,
     "metadata": {},
     "output_type": "execute_result"
    }
   ],
   "source": [
    "#1\n",
    "def matsum(A,B):\n",
    "    try:\n",
    "        if len(A)!=len(B) or len(A[0])!=len(B[0]):\n",
    "            raise IndexError\n",
    "        result = [[A[i][j] + B[i][j]  for j in range(len(A[0]))] for i in range(len(A))]\n",
    "        return result\n",
    "    except IndexError:\n",
    "        print(\"matrices are not of same dimensions\")\n",
    "    except TypeError:\n",
    "        print(\"Enter valid matrices\")\n",
    "        \n",
    "        \n",
    "A = [[1,2,3],[1,2,3]]\n",
    "B = [[1,1,1],[1,1,1]]\n",
    "matsum(A,B)"
   ]
  },
  {
   "cell_type": "code",
   "execution_count": 19,
   "id": "7b7d438a",
   "metadata": {},
   "outputs": [
    {
     "data": {
      "text/plain": [
       "[[22, 28], [22, 28]]"
      ]
     },
     "execution_count": 19,
     "metadata": {},
     "output_type": "execute_result"
    }
   ],
   "source": [
    "#2\n",
    "def matmult(A,B):\n",
    "    try:\n",
    "        if len(A)!=len(B[0]):\n",
    "            raise IndexError\n",
    "        result = [[sum(a * b for a, b in zip(A_row, B_col)) \n",
    "                        for B_col in zip(*B)]\n",
    "                                for A_row in A]\n",
    "        return result\n",
    "    except IndexError:\n",
    "        print(\"matrices cannot be multiplied\")\n",
    "    except TypeError:\n",
    "        print(\"Enter valid matrices\")\n",
    "        \n",
    "A = [[1,2,3],[1,2,3]]\n",
    "\n",
    "B = [[1,2],[3,4],[5,6]]\n",
    "\n",
    "\n",
    "matmult(A,B)"
   ]
  },
  {
   "cell_type": "code",
   "execution_count": 22,
   "id": "c52a68a4",
   "metadata": {},
   "outputs": [
    {
     "data": {
      "text/plain": [
       "[[1, 1], [2, 2], [3, 3]]"
      ]
     },
     "execution_count": 22,
     "metadata": {},
     "output_type": "execute_result"
    }
   ],
   "source": [
    "#3\n",
    "def matt(A):\n",
    "    try:\n",
    "        result = [[A[j][i]  for j in range(len(A))] for i in range(len(A[0]))]\n",
    "        return result\n",
    "    except TypeError:\n",
    "        print(\"Enter valid matrices\")\n",
    "        \n",
    "A = [[1,2,3],[1,2,3]]\n",
    "matt(A)"
   ]
  },
  {
   "cell_type": "code",
   "execution_count": 25,
   "id": "ad1d049c",
   "metadata": {},
   "outputs": [
    {
     "name": "stdout",
     "output_type": "stream",
     "text": [
      "Enter a string: This is a String\n"
     ]
    },
    {
     "data": {
      "text/plain": [
       "['a', 'is', 'string', 'this']"
      ]
     },
     "execution_count": 25,
     "metadata": {},
     "output_type": "execute_result"
    }
   ],
   "source": [
    "#4\n",
    "sr = input(\"Enter a string: \")\n",
    "\n",
    "def str_sort(st):\n",
    "    words = st.lower().split()\n",
    "    words.sort()\n",
    "    return words\n",
    "\n",
    "str_sort(sr)"
   ]
  },
  {
   "cell_type": "code",
   "execution_count": 31,
   "id": "91cf19ba",
   "metadata": {},
   "outputs": [
    {
     "data": {
      "text/plain": [
       "'This is a puncuated string'"
      ]
     },
     "execution_count": 31,
     "metadata": {},
     "output_type": "execute_result"
    }
   ],
   "source": [
    "#5\n",
    "def rem_punc(st):\n",
    "    punc = '!@#$%^&&*()_+-=[]\\{}|;:,.<>/?\"\\''\n",
    "    out=''\n",
    "    for i in st:\n",
    "        if i not in punc:\n",
    "            out = out+i\n",
    "    return out\n",
    "\n",
    "rem_punc('((!This. is, a; puncuated: string))')"
   ]
  }
 ],
 "metadata": {
  "kernelspec": {
   "display_name": "Python 3",
   "language": "python",
   "name": "python3"
  },
  "language_info": {
   "codemirror_mode": {
    "name": "ipython",
    "version": 3
   },
   "file_extension": ".py",
   "mimetype": "text/x-python",
   "name": "python",
   "nbconvert_exporter": "python",
   "pygments_lexer": "ipython3",
   "version": "3.8.8"
  }
 },
 "nbformat": 4,
 "nbformat_minor": 5
}

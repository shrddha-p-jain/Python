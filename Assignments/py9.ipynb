{
 "cells": [
  {
   "cell_type": "markdown",
   "id": "7ad9b06d",
   "metadata": {},
   "source": [
    "# Python Programming Assignment 9"
   ]
  },
  {
   "cell_type": "markdown",
   "id": "80420102",
   "metadata": {},
   "source": [
    "1. Write a Python program to check if the given number is a Disarium Number?\n",
    "2. Write a Python program to print all disarium numbers between 1 to 100?\n",
    "3. Write a Python program to check if the given number is Happy Number?\n",
    "4. Write a Python program to print all happy numbers between 1 and 100?\n",
    "5. Write a Python program to determine whether the given number is a Harshad Number?\n",
    "6. Write a Python program to print all pronic numbers between 1 and 100?"
   ]
  },
  {
   "cell_type": "code",
   "execution_count": 25,
   "id": "2d2a643a",
   "metadata": {},
   "outputs": [
    {
     "data": {
      "text/plain": [
       "True"
      ]
     },
     "execution_count": 25,
     "metadata": {},
     "output_type": "execute_result"
    }
   ],
   "source": [
    "#1\n",
    "def isDisarium(x):\n",
    "    try:\n",
    "        xs = str(x)\n",
    "        xn = int(x)\n",
    "        n = len(xs)\n",
    "        dis = 0\n",
    "        for i in range(n):\n",
    "            dis = dis+(int(xs[i])**(i+1))\n",
    "        if xn==dis:\n",
    "            return True\n",
    "        else:\n",
    "            return False\n",
    "    except ValueError:\n",
    "        print(\"enter a valid number\")\n",
    "        \n",
    "isDisarium(135)"
   ]
  },
  {
   "cell_type": "code",
   "execution_count": 13,
   "id": "8b5eec42",
   "metadata": {},
   "outputs": [
    {
     "data": {
      "text/plain": [
       "[1, 2, 3, 4, 5, 6, 7, 8, 9, 89]"
      ]
     },
     "execution_count": 13,
     "metadata": {},
     "output_type": "execute_result"
    }
   ],
   "source": [
    "#2\n",
    "def isDisarium_range(start,end):\n",
    "    if int(start)>int(end) or int(start)<1 :\n",
    "        print(\"Enter valid range\")\n",
    "        return None\n",
    "    li = []\n",
    "    try:\n",
    "        for i in range(int(start),int(end)):\n",
    "            if isDisarium(i):\n",
    "                li.append(i)\n",
    "        return li\n",
    "    except ValueError:\n",
    "        print(\"Enter a valid number\")\n",
    "\n",
    "isDisarium_range(1,101)"
   ]
  },
  {
   "cell_type": "code",
   "execution_count": 17,
   "id": "24c329a9",
   "metadata": {},
   "outputs": [
    {
     "data": {
      "text/plain": [
       "True"
      ]
     },
     "execution_count": 17,
     "metadata": {},
     "output_type": "execute_result"
    }
   ],
   "source": [
    "# 3\n",
    "def digitss(num):    \n",
    "    rem = sum = 0;    \n",
    "    while(num > 0):    \n",
    "        rem = num%10;    \n",
    "        sum = sum + (rem*rem);    \n",
    "        num = num//10;    \n",
    "    return sum; \n",
    "\n",
    "def isHappy(n):\n",
    "    result = digitss(n)\n",
    "    while(result != 1 and result != 4):    \n",
    "        result = digitss(result);\n",
    "    if result ==1:\n",
    "        return True\n",
    "    else:\n",
    "        return False\n",
    "    \n",
    "    \n",
    "isHappy(86)\n",
    "    "
   ]
  },
  {
   "cell_type": "code",
   "execution_count": 19,
   "id": "018d6d0d",
   "metadata": {},
   "outputs": [
    {
     "data": {
      "text/plain": [
       "[1, 7, 10, 13, 19, 23, 28, 31, 32, 44, 49, 68, 70, 79, 82, 86, 91, 94, 97]"
      ]
     },
     "execution_count": 19,
     "metadata": {},
     "output_type": "execute_result"
    }
   ],
   "source": [
    "#4\n",
    "def isHappy_range(start,end):\n",
    "    if int(start)>int(end) or int(start)<1 :\n",
    "        print(\"Enter valid range\")\n",
    "        return None\n",
    "    li = []\n",
    "    try:\n",
    "        for i in range(int(start),int(end)):\n",
    "            if isHappy(i):\n",
    "                li.append(i)\n",
    "        return li\n",
    "    except ValueError:\n",
    "        print(\"Enter a valid number\")\n",
    "\n",
    "isHappy_range(1,101)"
   ]
  },
  {
   "cell_type": "code",
   "execution_count": 31,
   "id": "6aa3b46b",
   "metadata": {},
   "outputs": [
    {
     "data": {
      "text/plain": [
       "True"
      ]
     },
     "execution_count": 31,
     "metadata": {},
     "output_type": "execute_result"
    }
   ],
   "source": [
    "#5\n",
    "def isHarshad(x):\n",
    "    try:\n",
    "        xs = str(x)\n",
    "        xn = int(x)\n",
    "        n = len(xs)\n",
    "        sum = 0\n",
    "        for i in xs:\n",
    "            sum = sum+int(i)\n",
    "        if xn%sum==0:\n",
    "            return True\n",
    "        else:\n",
    "            return False\n",
    "    except ValueError:\n",
    "        print(\"enter a valid number\")\n",
    "        \n",
    "isHarshad(156)\n",
    "        "
   ]
  },
  {
   "cell_type": "code",
   "execution_count": 37,
   "id": "e769fd48",
   "metadata": {},
   "outputs": [
    {
     "data": {
      "text/plain": [
       "[2, 6, 12, 20, 30, 42, 56, 72, 90]"
      ]
     },
     "execution_count": 37,
     "metadata": {},
     "output_type": "execute_result"
    }
   ],
   "source": [
    "def isPronic(num):    \n",
    "    flag = False;    \n",
    "    for j in range(1, num+1):    \n",
    "         if((j*(j+1)) == num):    \n",
    "            flag = True;    \n",
    "            break;    \n",
    "    return flag;    \n",
    "\n",
    "def isPronic_range(start,end):\n",
    "    if int(start)>int(end) or int(start)<0 :\n",
    "        print(\"Enter valid range\")\n",
    "        return None\n",
    "    li = []\n",
    "    try:\n",
    "        for i in range(int(start),int(end)):\n",
    "            if isPronic(i):\n",
    "                li.append(i)\n",
    "        return li\n",
    "    except ValueError:\n",
    "        print(\"Enter a valid number\")\n",
    "\n",
    "isPronic_range(0,101)"
   ]
  }
 ],
 "metadata": {
  "kernelspec": {
   "display_name": "Python 3",
   "language": "python",
   "name": "python3"
  },
  "language_info": {
   "codemirror_mode": {
    "name": "ipython",
    "version": 3
   },
   "file_extension": ".py",
   "mimetype": "text/x-python",
   "name": "python",
   "nbconvert_exporter": "python",
   "pygments_lexer": "ipython3",
   "version": "3.8.8"
  }
 },
 "nbformat": 4,
 "nbformat_minor": 5
}
